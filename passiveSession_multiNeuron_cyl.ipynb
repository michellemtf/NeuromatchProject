{
  "nbformat": 4,
  "nbformat_minor": 0,
  "metadata": {
    "colab": {
      "name": "nov_data_preprocess_cyl.ipynb",
      "provenance": [],
      "collapsed_sections": [],
      "authorship_tag": "ABX9TyNjoVD7nX0RH36hHyD6PA37",
      "include_colab_link": true
    },
    "kernelspec": {
      "name": "python3",
      "display_name": "Python 3"
    },
    "language_info": {
      "name": "python"
    }
  },
  "cells": [
    {
      "cell_type": "markdown",
      "metadata": {
        "id": "view-in-github",
        "colab_type": "text"
      },
      "source": [
        "<a href=\"https://colab.research.google.com/github/michellemtf/NeuromatchProject/blob/main/passiveSession_multiNeuron_cyl.ipynb\" target=\"_parent\"><img src=\"https://colab.research.google.com/assets/colab-badge.svg\" alt=\"Open In Colab\"/></a>"
      ]
    },
    {
      "cell_type": "markdown",
      "metadata": {
        "id": "aT1SMSLJjkAN"
      },
      "source": [
        "## **Set up environment and import packages**"
      ]
    },
    {
      "cell_type": "markdown",
      "metadata": {
        "id": "NXdwP8aLjwfA"
      },
      "source": [
        "#### Install necessary packages"
      ]
    },
    {
      "cell_type": "code",
      "metadata": {
        "id": "6-N9wlu3jAZY"
      },
      "source": [
        "!python -m pip install --upgrade pip\n",
        "!pip install mindscope_utilities --upgrade"
      ],
      "execution_count": null,
      "outputs": []
    },
    {
      "cell_type": "markdown",
      "metadata": {
        "id": "0g9yyJ5njrqI"
      },
      "source": [
        "Next we will import packages we need later in the notebook"
      ]
    },
    {
      "cell_type": "code",
      "metadata": {
        "id": "zJIAEXJUjbiM"
      },
      "source": [
        "import os\n",
        "import numpy as np\n",
        "import pandas as pd\n",
        "from tqdm import tqdm\n",
        "import seaborn as sns\n",
        "import matplotlib.pyplot as plt\n",
        "\n",
        "import mindscope_utilities\n",
        "import mindscope_utilities.visual_behavior_ophys as ophys\n",
        "\n",
        "from allensdk.brain_observatory.behavior.behavior_project_cache import VisualBehaviorOphysProjectCache\n",
        "\n",
        "pd.set_option('display.max_columns', 500)"
      ],
      "execution_count": 2,
      "outputs": []
    },
    {
      "cell_type": "markdown",
      "metadata": {
        "id": "J5FEwEXQj5sc"
      },
      "source": [
        "# **# Load the session and experiment summary tables**"
      ]
    },
    {
      "cell_type": "code",
      "metadata": {
        "id": "L_ueVdBjkOZT",
        "colab": {
          "base_uri": "https://localhost:8080/"
        },
        "outputId": "c889ee11-5df0-4e70-b9ee-9a7e774f8860"
      },
      "source": [
        "data_storage_directory = \"/temp\" # Note: this path must exist on your local drive\n",
        "cache = VisualBehaviorOphysProjectCache.from_s3_cache(cache_dir=data_storage_directory)"
      ],
      "execution_count": 3,
      "outputs": [
        {
          "output_type": "stream",
          "text": [
            "ophys_session_table.csv: 100%|██████████| 165k/165k [00:00<00:00, 1.27MMB/s] \n",
            "behavior_session_table.csv: 100%|██████████| 885k/885k [00:00<00:00, 6.89MMB/s] \n",
            "ophys_experiment_table.csv: 100%|██████████| 336k/336k [00:00<00:00, 2.33MMB/s] \n"
          ],
          "name": "stderr"
        }
      ]
    },
    {
      "cell_type": "markdown",
      "metadata": {
        "id": "e1GELquGkTuq"
      },
      "source": [
        "Load summary tables"
      ]
    },
    {
      "cell_type": "code",
      "metadata": {
        "id": "_GAKb0ZJkX1Q"
      },
      "source": [
        "behavior_session_table = cache.get_behavior_session_table()\n",
        "ophys_session_table    = cache.get_ophys_session_table()\n",
        "ophys_experiment_table = cache.get_ophys_experiment_table()\n",
        "#ophys_experiment_table.head()\n",
        "#ophys_experiment_table['mouse_id']"
      ],
      "execution_count": 4,
      "outputs": []
    },
    {
      "cell_type": "code",
      "metadata": {
        "id": "6RvtCCqqkjc0"
      },
      "source": [
        "# Dictionary with session types\n",
        "##\n",
        "#session_type = {'familiar_active': ['OPHYS_0', 'OPHYS_1', 'OPHYS_2', 'OPHYS_3'],\n",
        "#                'novel_active':    ['OPHYS_4', 'OPHYS_5', 'OPHYS_6'],\n",
        "#                'familiar_pasive': ['OPHYS_2_images_A_passive'],\n",
        "#                'novel_pasive':    ['OPHYS_5_images_A_passive','OPHYS_5_images_B_passive']} # note: I think \"OPHYS_5_images_B_passive\" is novel, but not sure\n",
        "\n",
        "#cre_line_type = ['Sst-IRES-Cre', 'Vip-IRES-Cre', 'Slc17a7-IRES2-Cre']\n",
        "\n",
        "#print(f'*Ophys session types in the current dataset:*\\n\\n {ophys_session_table.session_type.unique()}',)  \n",
        "        "
      ],
      "execution_count": null,
      "outputs": []
    },
    {
      "cell_type": "code",
      "metadata": {
        "id": "ZbkwDxPkDklA"
      },
      "source": [
        "session_type = {'familiar_active':  ['OPHYS_1_images_A', 'OPHYS_3_images_A', 'OPHYS_4_images_A', 'OPHYS_6_images_A'],\n",
        "                'novel_active':     ['OPHYS_1_images_B', 'OPHYS_3_images_B', 'OPHYS_4_images_B', 'OPHYS_6_images_B'],\n",
        "                'familiar_passive': ['OPHYS_2_images_A_passive','OPHYS_5_images_A_passive'],\n",
        "                'novel_passive':    ['OPHYS_2_images_B_passive','OPHYS_5_images_B_passive']} # note: I think \"OPHYS_5_images_B_passive\" is novel, but not sure\n",
        "\n",
        "cre_line_type = ['Sst-IRES-Cre', 'Vip-IRES-Cre', 'Slc17a7-IRES2-Cre']\n",
        "\n",
        "print(f'*Ophys session types in the current dataset:*\\n\\n {ophys_session_table.session_type.unique()}',)             "
      ],
      "execution_count": null,
      "outputs": []
    },
    {
      "cell_type": "code",
      "metadata": {
        "id": "puJO4otckt8H"
      },
      "source": [
        "#cyllll label active and pasive\n",
        "# Active vs passive\n",
        "ind_passive = (ophys_experiment_table.session_type.str.contains(session_type['familiar_passive'][0]) |\n",
        "               ophys_experiment_table.session_type.str.contains(session_type['familiar_passive'][1]) |\n",
        "               ophys_experiment_table.session_type.str.contains(session_type['novel_passive'][0]) |\n",
        "               ophys_experiment_table.session_type.str.contains(session_type['novel_passive'][1])) \n",
        "ind_passive[ind_passive==False] = 'active'\n",
        "ind_passive[ind_passive==True]  = 'pasive'\n",
        "ophys_experiment_table['behavior_condition'] = ind_passive"
      ],
      "execution_count": 6,
      "outputs": []
    },
    {
      "cell_type": "code",
      "metadata": {
        "colab": {
          "base_uri": "https://localhost:8080/"
        },
        "id": "7r8IYzyFqse3",
        "outputId": "19553c14-65c2-4f65-9e30-f43f2ad24f9c"
      },
      "source": [
        "print(np.size(ind_passive))\n",
        "print(ind_passive.unique())\n",
        "print(np.sum(ind_passive == 'pasive'))\n",
        "print(np.sum(ind_passive == 'active'))"
      ],
      "execution_count": 7,
      "outputs": [
        {
          "output_type": "stream",
          "text": [
            "1165\n",
            "['active' 'pasive']\n",
            "339\n",
            "826\n"
          ],
          "name": "stdout"
        }
      ]
    },
    {
      "cell_type": "code",
      "metadata": {
        "id": "2slf2EFflQk3"
      },
      "source": [
        "# Familiar vs novel\n",
        "fam = session_type['familiar_passive'] + session_type['familiar_active'] #select the passive session\n",
        "\n",
        "i_fam = pd.Series([False]*ophys_experiment_table.shape[0]) #shape, help find the dimensions of the array\n",
        "for f in fam:\n",
        "  i_fam = (i_fam | ophys_experiment_table.session_type.str.contains(f))\n",
        "i_fam[i_fam==True]  = 'familiar'\n",
        "i_fam[i_fam==False] = 'novel'  \n",
        "ophys_experiment_table['experimental_condition'] = i_fam"
      ],
      "execution_count": 8,
      "outputs": []
    },
    {
      "cell_type": "code",
      "metadata": {
        "colab": {
          "base_uri": "https://localhost:8080/"
        },
        "id": "HBx72U0OqJ40",
        "outputId": "b4b9e6f9-9b19-4957-f0a9-0f60800833ba"
      },
      "source": [
        "#check the labels and condition numbers\n",
        "print(ophys_experiment_table.experimental_condition.unique())\n",
        "print(np.sum(ophys_experiment_table.experimental_condition == 'familiar'))\n",
        "print(np.sum(ophys_experiment_table.experimental_condition == 'novel'))"
      ],
      "execution_count": 9,
      "outputs": [
        {
          "output_type": "stream",
          "text": [
            "['familiar' 'novel']\n",
            "467\n",
            "698\n"
          ],
          "name": "stdout"
        }
      ]
    },
    {
      "cell_type": "markdown",
      "metadata": {
        "id": "s3UtPi2WtM4L"
      },
      "source": [
        "Find a container with familiar and novel sessions"
      ]
    },
    {
      "cell_type": "code",
      "metadata": {
        "id": "ipA597YUtOJH"
      },
      "source": [
        "# Containers-cyllllll -use the excitatory neuron here\n",
        "i_fam = ophys_experiment_table.query('cre_line == \"Slc17a7-IRES2-Cre\" and behavior_condition == \"pasive\" and experimental_condition == \"familiar\"')['ophys_container_id']\n",
        "i_nov = ophys_experiment_table.query('cre_line == \"Slc17a7-IRES2-Cre\" and behavior_condition == \"pasive\" and experimental_condition == \"novel\"')['ophys_container_id']\n",
        "\n",
        "# Which containers are in both conditions\n",
        "unic_fam = i_fam.unique()\n",
        "i_both = []\n",
        "for i,row in enumerate(unic_fam):\n",
        "  if (row == i_nov.values).any():\n",
        "    i_both.append(i)\n",
        "    \n",
        "# Choose the first container with fam & nov conditions\n",
        "id_contain = unic_fam[i_both[0]]"
      ],
      "execution_count": 10,
      "outputs": []
    },
    {
      "cell_type": "code",
      "metadata": {
        "colab": {
          "base_uri": "https://localhost:8080/"
        },
        "id": "SUzdPDd8vM1b",
        "outputId": "61be829b-2a44-41ee-c496-06c07dc396ae"
      },
      "source": [
        "print(np.size(i_both))\n",
        "print(id_contain)"
      ],
      "execution_count": 11,
      "outputs": [
        {
          "output_type": "stream",
          "text": [
            "15\n",
            "991913064\n"
          ],
          "name": "stdout"
        }
      ]
    },
    {
      "cell_type": "markdown",
      "metadata": {
        "id": "nyzlfI-qviYq"
      },
      "source": [
        "Select the experiments of a specific container"
      ]
    },
    {
      "cell_type": "code",
      "metadata": {
        "id": "pRrdSTOsvjUU"
      },
      "source": [
        "#cyllll\n",
        "exper_famil = ophys_experiment_table.query('cre_line == \"Slc17a7-IRES2-Cre\" and behavior_condition == \"pasive\" and experimental_condition == \"familiar\" and ophys_container_id == @id_contain')\n",
        "exper_novel = ophys_experiment_table.query('cre_line == \"Slc17a7-IRES2-Cre\" and behavior_condition == \"pasive\" and experimental_condition == \"novel\" and ophys_container_id == @id_contain')"
      ],
      "execution_count": 12,
      "outputs": []
    },
    {
      "cell_type": "code",
      "metadata": {
        "colab": {
          "base_uri": "https://localhost:8080/",
          "height": 182
        },
        "id": "VlumR7cx-BkK",
        "outputId": "b79b6e4b-ec28-433c-ef32-14fb573dcbbd"
      },
      "source": [
        "exper_famil"
      ],
      "execution_count": 13,
      "outputs": [
        {
          "output_type": "execute_result",
          "data": {
            "text/html": [
              "<div>\n",
              "<style scoped>\n",
              "    .dataframe tbody tr th:only-of-type {\n",
              "        vertical-align: middle;\n",
              "    }\n",
              "\n",
              "    .dataframe tbody tr th {\n",
              "        vertical-align: top;\n",
              "    }\n",
              "\n",
              "    .dataframe thead th {\n",
              "        text-align: right;\n",
              "    }\n",
              "</style>\n",
              "<table border=\"1\" class=\"dataframe\">\n",
              "  <thead>\n",
              "    <tr style=\"text-align: right;\">\n",
              "      <th></th>\n",
              "      <th>equipment_name</th>\n",
              "      <th>full_genotype</th>\n",
              "      <th>mouse_id</th>\n",
              "      <th>reporter_line</th>\n",
              "      <th>driver_line</th>\n",
              "      <th>sex</th>\n",
              "      <th>age_in_days</th>\n",
              "      <th>cre_line</th>\n",
              "      <th>indicator</th>\n",
              "      <th>session_number</th>\n",
              "      <th>prior_exposures_to_session_type</th>\n",
              "      <th>prior_exposures_to_image_set</th>\n",
              "      <th>prior_exposures_to_omissions</th>\n",
              "      <th>ophys_session_id</th>\n",
              "      <th>behavior_session_id</th>\n",
              "      <th>ophys_container_id</th>\n",
              "      <th>project_code</th>\n",
              "      <th>imaging_depth</th>\n",
              "      <th>targeted_structure</th>\n",
              "      <th>date_of_acquisition</th>\n",
              "      <th>session_type</th>\n",
              "      <th>file_id</th>\n",
              "      <th>behavior_condition</th>\n",
              "      <th>experimental_condition</th>\n",
              "    </tr>\n",
              "    <tr>\n",
              "      <th>ophys_experiment_id</th>\n",
              "      <th></th>\n",
              "      <th></th>\n",
              "      <th></th>\n",
              "      <th></th>\n",
              "      <th></th>\n",
              "      <th></th>\n",
              "      <th></th>\n",
              "      <th></th>\n",
              "      <th></th>\n",
              "      <th></th>\n",
              "      <th></th>\n",
              "      <th></th>\n",
              "      <th></th>\n",
              "      <th></th>\n",
              "      <th></th>\n",
              "      <th></th>\n",
              "      <th></th>\n",
              "      <th></th>\n",
              "      <th></th>\n",
              "      <th></th>\n",
              "      <th></th>\n",
              "      <th></th>\n",
              "      <th></th>\n",
              "      <th></th>\n",
              "    </tr>\n",
              "  </thead>\n",
              "  <tbody>\n",
              "    <tr>\n",
              "      <th>994955433</th>\n",
              "      <td>CAM2P.3</td>\n",
              "      <td>Slc17a7-IRES2-Cre/wt;Camk2a-tTA/wt;Ai93(TITL-G...</td>\n",
              "      <td>491060</td>\n",
              "      <td>Ai93(TITL-GCaMP6f)</td>\n",
              "      <td>[Slc17a7-IRES2-Cre, Camk2a-tTA]</td>\n",
              "      <td>M</td>\n",
              "      <td>124.0</td>\n",
              "      <td>Slc17a7-IRES2-Cre</td>\n",
              "      <td>GCaMP6f</td>\n",
              "      <td>5.0</td>\n",
              "      <td>0</td>\n",
              "      <td>2.0</td>\n",
              "      <td>8</td>\n",
              "      <td>994869518</td>\n",
              "      <td>994880774</td>\n",
              "      <td>991913064</td>\n",
              "      <td>VisualBehaviorTask1B</td>\n",
              "      <td>175</td>\n",
              "      <td>VISp</td>\n",
              "      <td>2019-12-17 17:15:08.000000</td>\n",
              "      <td>OPHYS_5_images_A_passive</td>\n",
              "      <td>995011003</td>\n",
              "      <td>pasive</td>\n",
              "      <td>familiar</td>\n",
              "    </tr>\n",
              "  </tbody>\n",
              "</table>\n",
              "</div>"
            ],
            "text/plain": [
              "                    equipment_name  \\\n",
              "ophys_experiment_id                  \n",
              "994955433                  CAM2P.3   \n",
              "\n",
              "                                                         full_genotype  \\\n",
              "ophys_experiment_id                                                      \n",
              "994955433            Slc17a7-IRES2-Cre/wt;Camk2a-tTA/wt;Ai93(TITL-G...   \n",
              "\n",
              "                     mouse_id       reporter_line  \\\n",
              "ophys_experiment_id                                 \n",
              "994955433              491060  Ai93(TITL-GCaMP6f)   \n",
              "\n",
              "                                         driver_line sex  age_in_days  \\\n",
              "ophys_experiment_id                                                     \n",
              "994955433            [Slc17a7-IRES2-Cre, Camk2a-tTA]   M        124.0   \n",
              "\n",
              "                              cre_line indicator  session_number  \\\n",
              "ophys_experiment_id                                                \n",
              "994955433            Slc17a7-IRES2-Cre   GCaMP6f             5.0   \n",
              "\n",
              "                     prior_exposures_to_session_type  \\\n",
              "ophys_experiment_id                                    \n",
              "994955433                                          0   \n",
              "\n",
              "                     prior_exposures_to_image_set  \\\n",
              "ophys_experiment_id                                 \n",
              "994955433                                     2.0   \n",
              "\n",
              "                     prior_exposures_to_omissions  ophys_session_id  \\\n",
              "ophys_experiment_id                                                   \n",
              "994955433                                       8         994869518   \n",
              "\n",
              "                     behavior_session_id  ophys_container_id  \\\n",
              "ophys_experiment_id                                            \n",
              "994955433                      994880774           991913064   \n",
              "\n",
              "                             project_code  imaging_depth targeted_structure  \\\n",
              "ophys_experiment_id                                                           \n",
              "994955433            VisualBehaviorTask1B            175               VISp   \n",
              "\n",
              "                            date_of_acquisition              session_type  \\\n",
              "ophys_experiment_id                                                         \n",
              "994955433            2019-12-17 17:15:08.000000  OPHYS_5_images_A_passive   \n",
              "\n",
              "                       file_id behavior_condition experimental_condition  \n",
              "ophys_experiment_id                                                       \n",
              "994955433            995011003             pasive               familiar  "
            ]
          },
          "metadata": {
            "tags": []
          },
          "execution_count": 13
        }
      ]
    },
    {
      "cell_type": "code",
      "metadata": {
        "colab": {
          "base_uri": "https://localhost:8080/",
          "height": 182
        },
        "id": "d_Jk10pc-UAL",
        "outputId": "adba16e4-6347-4b87-d992-756cc54285b4"
      },
      "source": [
        "exper_novel"
      ],
      "execution_count": 14,
      "outputs": [
        {
          "output_type": "execute_result",
          "data": {
            "text/html": [
              "<div>\n",
              "<style scoped>\n",
              "    .dataframe tbody tr th:only-of-type {\n",
              "        vertical-align: middle;\n",
              "    }\n",
              "\n",
              "    .dataframe tbody tr th {\n",
              "        vertical-align: top;\n",
              "    }\n",
              "\n",
              "    .dataframe thead th {\n",
              "        text-align: right;\n",
              "    }\n",
              "</style>\n",
              "<table border=\"1\" class=\"dataframe\">\n",
              "  <thead>\n",
              "    <tr style=\"text-align: right;\">\n",
              "      <th></th>\n",
              "      <th>equipment_name</th>\n",
              "      <th>full_genotype</th>\n",
              "      <th>mouse_id</th>\n",
              "      <th>reporter_line</th>\n",
              "      <th>driver_line</th>\n",
              "      <th>sex</th>\n",
              "      <th>age_in_days</th>\n",
              "      <th>cre_line</th>\n",
              "      <th>indicator</th>\n",
              "      <th>session_number</th>\n",
              "      <th>prior_exposures_to_session_type</th>\n",
              "      <th>prior_exposures_to_image_set</th>\n",
              "      <th>prior_exposures_to_omissions</th>\n",
              "      <th>ophys_session_id</th>\n",
              "      <th>behavior_session_id</th>\n",
              "      <th>ophys_container_id</th>\n",
              "      <th>project_code</th>\n",
              "      <th>imaging_depth</th>\n",
              "      <th>targeted_structure</th>\n",
              "      <th>date_of_acquisition</th>\n",
              "      <th>session_type</th>\n",
              "      <th>file_id</th>\n",
              "      <th>behavior_condition</th>\n",
              "      <th>experimental_condition</th>\n",
              "    </tr>\n",
              "    <tr>\n",
              "      <th>ophys_experiment_id</th>\n",
              "      <th></th>\n",
              "      <th></th>\n",
              "      <th></th>\n",
              "      <th></th>\n",
              "      <th></th>\n",
              "      <th></th>\n",
              "      <th></th>\n",
              "      <th></th>\n",
              "      <th></th>\n",
              "      <th></th>\n",
              "      <th></th>\n",
              "      <th></th>\n",
              "      <th></th>\n",
              "      <th></th>\n",
              "      <th></th>\n",
              "      <th></th>\n",
              "      <th></th>\n",
              "      <th></th>\n",
              "      <th></th>\n",
              "      <th></th>\n",
              "      <th></th>\n",
              "      <th></th>\n",
              "      <th></th>\n",
              "      <th></th>\n",
              "    </tr>\n",
              "  </thead>\n",
              "  <tbody>\n",
              "    <tr>\n",
              "      <th>993863108</th>\n",
              "      <td>CAM2P.3</td>\n",
              "      <td>Slc17a7-IRES2-Cre/wt;Camk2a-tTA/wt;Ai93(TITL-G...</td>\n",
              "      <td>491060</td>\n",
              "      <td>Ai93(TITL-GCaMP6f)</td>\n",
              "      <td>[Slc17a7-IRES2-Cre, Camk2a-tTA]</td>\n",
              "      <td>M</td>\n",
              "      <td>118.0</td>\n",
              "      <td>Slc17a7-IRES2-Cre</td>\n",
              "      <td>GCaMP6f</td>\n",
              "      <td>2.0</td>\n",
              "      <td>0</td>\n",
              "      <td>15.0</td>\n",
              "      <td>4</td>\n",
              "      <td>993669512</td>\n",
              "      <td>993706715</td>\n",
              "      <td>991913064</td>\n",
              "      <td>VisualBehaviorTask1B</td>\n",
              "      <td>175</td>\n",
              "      <td>VISp</td>\n",
              "      <td>2019-12-11 16:38:44.000000</td>\n",
              "      <td>OPHYS_2_images_B_passive</td>\n",
              "      <td>993916179</td>\n",
              "      <td>pasive</td>\n",
              "      <td>novel</td>\n",
              "    </tr>\n",
              "  </tbody>\n",
              "</table>\n",
              "</div>"
            ],
            "text/plain": [
              "                    equipment_name  \\\n",
              "ophys_experiment_id                  \n",
              "993863108                  CAM2P.3   \n",
              "\n",
              "                                                         full_genotype  \\\n",
              "ophys_experiment_id                                                      \n",
              "993863108            Slc17a7-IRES2-Cre/wt;Camk2a-tTA/wt;Ai93(TITL-G...   \n",
              "\n",
              "                     mouse_id       reporter_line  \\\n",
              "ophys_experiment_id                                 \n",
              "993863108              491060  Ai93(TITL-GCaMP6f)   \n",
              "\n",
              "                                         driver_line sex  age_in_days  \\\n",
              "ophys_experiment_id                                                     \n",
              "993863108            [Slc17a7-IRES2-Cre, Camk2a-tTA]   M        118.0   \n",
              "\n",
              "                              cre_line indicator  session_number  \\\n",
              "ophys_experiment_id                                                \n",
              "993863108            Slc17a7-IRES2-Cre   GCaMP6f             2.0   \n",
              "\n",
              "                     prior_exposures_to_session_type  \\\n",
              "ophys_experiment_id                                    \n",
              "993863108                                          0   \n",
              "\n",
              "                     prior_exposures_to_image_set  \\\n",
              "ophys_experiment_id                                 \n",
              "993863108                                    15.0   \n",
              "\n",
              "                     prior_exposures_to_omissions  ophys_session_id  \\\n",
              "ophys_experiment_id                                                   \n",
              "993863108                                       4         993669512   \n",
              "\n",
              "                     behavior_session_id  ophys_container_id  \\\n",
              "ophys_experiment_id                                            \n",
              "993863108                      993706715           991913064   \n",
              "\n",
              "                             project_code  imaging_depth targeted_structure  \\\n",
              "ophys_experiment_id                                                           \n",
              "993863108            VisualBehaviorTask1B            175               VISp   \n",
              "\n",
              "                            date_of_acquisition              session_type  \\\n",
              "ophys_experiment_id                                                         \n",
              "993863108            2019-12-11 16:38:44.000000  OPHYS_2_images_B_passive   \n",
              "\n",
              "                       file_id behavior_condition experimental_condition  \n",
              "ophys_experiment_id                                                       \n",
              "993863108            993916179             pasive                  novel  "
            ]
          },
          "metadata": {
            "tags": []
          },
          "execution_count": 14
        }
      ]
    },
    {
      "cell_type": "markdown",
      "metadata": {
        "id": "383nz5ZZzPa_"
      },
      "source": [
        "## **Load one example session**"
      ]
    },
    {
      "cell_type": "code",
      "metadata": {
        "id": "-usCup1VzSuy",
        "colab": {
          "base_uri": "https://localhost:8080/"
        },
        "outputId": "c3cdecd3-8d36-4d59-a6ae-efdb3a2d0fc3"
      },
      "source": [
        "# Ophys experimental ID (choose the first experiment of familiar and novel conditions)\n",
        "ophys_experiment_id_fam = exper_famil.index[0] #we actually only have one experiment\n",
        "ophys_experiment_id_nov = exper_novel.index[0]\n",
        "\n",
        "# Download particular ophys experiments\n",
        "fam_experiment = cache.get_behavior_ophys_experiment(ophys_experiment_id_fam)\n",
        "nov_experiment = cache.get_behavior_ophys_experiment(ophys_experiment_id_nov)"
      ],
      "execution_count": 15,
      "outputs": [
        {
          "output_type": "stream",
          "text": [
            "behavior_ophys_experiment_994955433.nwb: 100%|██████████| 1.63G/1.63G [00:57<00:00, 28.2MMB/s]\n",
            "behavior_ophys_experiment_993863108.nwb: 100%|██████████| 1.62G/1.62G [00:54<00:00, 29.7MMB/s]\n"
          ],
          "name": "stderr"
        }
      ]
    },
    {
      "cell_type": "markdown",
      "metadata": {
        "id": "elqAaasP_N_4"
      },
      "source": [
        "Structure the data"
      ]
    },
    {
      "cell_type": "code",
      "metadata": {
        "id": "I0fqYu64_PES"
      },
      "source": [
        "metadata_keys = [\n",
        "    'ophys_experiment_id',\n",
        "    'ophys_session_id',\n",
        "    'targeted_structure',\n",
        "    'imaging_depth',\n",
        "    'equipment_name',\n",
        "    'cre_line',\n",
        "    'mouse_id',\n",
        "    'sex',\n",
        "]"
      ],
      "execution_count": 16,
      "outputs": []
    },
    {
      "cell_type": "code",
      "metadata": {
        "id": "xoZpU_ZLCEye"
      },
      "source": [
        "nov_experiment_neural_data = ophys.build_tidy_cell_df(nov_experiment)"
      ],
      "execution_count": 17,
      "outputs": []
    },
    {
      "cell_type": "code",
      "metadata": {
        "id": "wbeTMGDNCu4H"
      },
      "source": [
        "#crush everytime\n",
        "fam_experiment_neural_data = ophys.build_tidy_cell_df(fam_experiment)"
      ],
      "execution_count": 18,
      "outputs": []
    },
    {
      "cell_type": "code",
      "metadata": {
        "id": "qCOoWn5v_ToZ"
      },
      "source": [
        "#don't run this cell, it will crush\n",
        "#fam_experiment_neural_data = ophys.build_tidy_cell_df(fam_experiment)\n",
        "#nov_experiment_neural_data = ophys.build_tidy_cell_df(nov_experiment)"
      ],
      "execution_count": null,
      "outputs": []
    },
    {
      "cell_type": "markdown",
      "metadata": {
        "id": "pWDR8Ucv_ZJd"
      },
      "source": [
        "## **Examine Cell IDs**"
      ]
    },
    {
      "cell_type": "code",
      "metadata": {
        "colab": {
          "base_uri": "https://localhost:8080/"
        },
        "id": "l3gknFfE_c3s",
        "outputId": "b1e62d22-e829-4706-8ba7-dd5f0e9e725b"
      },
      "source": [
        "#cyllllll\n",
        "cell_ids_fam = fam_experiment_neural_data['cell_specimen_id'].unique()\n",
        "print('there are {} unique cells for fam'.format(len(cell_ids_fam)))\n",
        "print('cell ids are: {}'.format(cell_ids_fam))\n",
        "\n",
        "cell_ids_nov = nov_experiment_neural_data['cell_specimen_id'].unique()\n",
        "print('there are {} unique cells for nov'.format(len(cell_ids_nov)))\n",
        "print('cell ids are: {}'.format(cell_ids_nov))\n",
        "\n",
        "# Choose only one neuron ID\n",
        "cell_id_fam = cell_ids_fam[0:2]\n",
        "cell_id_nov = cell_ids_nov[0:2]"
      ],
      "execution_count": 22,
      "outputs": [
        {
          "output_type": "stream",
          "text": [
            "there are 280 unique cells for fam\n",
            "cell ids are: [1086609591, 1086551376, 1086551633, 1086617450, 1086652573, ..., 1086561212, 1086611853, 1086611937, 1086604004, 1086601966]\n",
            "Length: 280\n",
            "Categories (280, int64): [1086609591, 1086551376, 1086551633, 1086617450, ..., 1086611853, 1086611937,\n",
            "                          1086604004, 1086601966]\n",
            "there are 261 unique cells for nov\n",
            "cell ids are: [1086551792, 1086643019, 1086590320, 1086628626, 1086629436, ..., 1086627720, 1086629140, 1086599425, 1086599717, 1086588486]\n",
            "Length: 261\n",
            "Categories (261, int64): [1086551792, 1086643019, 1086590320, 1086628626, ..., 1086629140, 1086599425,\n",
            "                          1086599717, 1086588486]\n"
          ],
          "name": "stdout"
        }
      ]
    },
    {
      "cell_type": "code",
      "metadata": {
        "id": "wEEp9hNS_8DY"
      },
      "source": [
        "#cyllll\n",
        "fam_stimulus_table = fam_experiment.stimulus_presentations\n",
        "nov_stimulus_table = nov_experiment.stimulus_presentations"
      ],
      "execution_count": 24,
      "outputs": []
    },
    {
      "cell_type": "code",
      "metadata": {
        "colab": {
          "base_uri": "https://localhost:8080/"
        },
        "id": "HtsunrNAIhV3",
        "outputId": "78a917df-3e48-4351-9adc-d9993183afa4"
      },
      "source": [
        "ETR_NOV = np.zeros([4253, 2]) #pick 2 neuron first\n",
        "i = 0\n",
        "for temp_cell_id in cell_id_nov:\n",
        "  etr_nov = mindscope_utilities.event_triggered_response(\n",
        "  data = nov_experiment_neural_data.query('cell_specimen_id == @temp_cell_id'),\n",
        "  t = 'timestamps',\n",
        "  y = 'dff',\n",
        "  event_times = nov_stimulus_table.query('is_change == False and omitted == False')['start_time'], #no change images\n",
        "  t_before=0,\n",
        "  t_after=0.5,\n",
        "  output_sampling_rate = 1,\n",
        "  )\n",
        "  #print(np.size(etr_nov.dff, 0))\n",
        "  ETR_NOV[:,i] = etr_nov.dff\n",
        "  i = i+1"
      ],
      "execution_count": 26,
      "outputs": [
        {
          "output_type": "stream",
          "text": [
            "4253\n",
            "4253\n"
          ],
          "name": "stdout"
        }
      ]
    },
    {
      "cell_type": "code",
      "metadata": {
        "colab": {
          "base_uri": "https://localhost:8080/"
        },
        "id": "CEptQVxLIxzU",
        "outputId": "af2857d3-3159-45f2-e525-951e99ae2ca2"
      },
      "source": [
        "#for cell_idssss in cell_id_nov:\n",
        "ETR_FAM = np.zeros([4258, 2]) #pick 2 neuron first\n",
        "i = 0\n",
        "for temp_cell_id in cell_id_fam:\n",
        "  etr_fam = mindscope_utilities.event_triggered_response(\n",
        "  data = fam_experiment_neural_data.query('cell_specimen_id == @temp_cell_id'),\n",
        "  t = 'timestamps',\n",
        "  y = 'dff',\n",
        "  event_times = fam_stimulus_table.query('is_change == False and omitted == False')['start_time'], #no change images\n",
        "  t_before=0,\n",
        "  t_after=0.5,\n",
        "  output_sampling_rate = 1,\n",
        "  )\n",
        "  print(np.size(etr_fam.dff, 0))\n",
        "  ETR_FAM[:,i] = etr_fam.dff\n",
        "  i = i+1"
      ],
      "execution_count": 28,
      "outputs": [
        {
          "output_type": "stream",
          "text": [
            "4258\n",
            "4258\n"
          ],
          "name": "stdout"
        }
      ]
    },
    {
      "cell_type": "code",
      "metadata": {
        "id": "jkCo2JbtF52C"
      },
      "source": [
        "#for cell_id in cell_id_fam:\n",
        "#etr_nov = mindscope_utilities.event_triggered_response(\n",
        "#data = nov_experiment_neural_data.query('cell_specimen_id == @cell_id_nov'),\n",
        "#t = 'timestamps',\n",
        "#y = 'dff',\n",
        "#event_times = nov_stimulus_table.query('is_change == False')['start_time'], #no change images\n",
        "#t_before=0,\n",
        "#t_after=0.5,\n",
        "#output_sampling_rate = 1,\n",
        "#)"
      ],
      "execution_count": null,
      "outputs": []
    },
    {
      "cell_type": "code",
      "metadata": {
        "colab": {
          "base_uri": "https://localhost:8080/",
          "height": 238
        },
        "id": "BG4hAzqRGwhU",
        "outputId": "5979e2fa-67c8-4fb8-ced5-d5bf49a31825"
      },
      "source": [
        "print(np.size(etr_nov, 0))\n",
        "print(np.size(etr_nov, 1))\n",
        "etr_nov.head()"
      ],
      "execution_count": 29,
      "outputs": [
        {
          "output_type": "stream",
          "text": [
            "4253\n",
            "4\n"
          ],
          "name": "stdout"
        },
        {
          "output_type": "execute_result",
          "data": {
            "text/html": [
              "<div>\n",
              "<style scoped>\n",
              "    .dataframe tbody tr th:only-of-type {\n",
              "        vertical-align: middle;\n",
              "    }\n",
              "\n",
              "    .dataframe tbody tr th {\n",
              "        vertical-align: top;\n",
              "    }\n",
              "\n",
              "    .dataframe thead th {\n",
              "        text-align: right;\n",
              "    }\n",
              "</style>\n",
              "<table border=\"1\" class=\"dataframe\">\n",
              "  <thead>\n",
              "    <tr style=\"text-align: right;\">\n",
              "      <th></th>\n",
              "      <th>time</th>\n",
              "      <th>dff</th>\n",
              "      <th>event_number</th>\n",
              "      <th>event_time</th>\n",
              "    </tr>\n",
              "  </thead>\n",
              "  <tbody>\n",
              "    <tr>\n",
              "      <th>0</th>\n",
              "      <td>0.0</td>\n",
              "      <td>-0.059167</td>\n",
              "      <td>0</td>\n",
              "      <td>307.52099</td>\n",
              "    </tr>\n",
              "    <tr>\n",
              "      <th>1</th>\n",
              "      <td>0.0</td>\n",
              "      <td>0.066646</td>\n",
              "      <td>1</td>\n",
              "      <td>308.27160</td>\n",
              "    </tr>\n",
              "    <tr>\n",
              "      <th>2</th>\n",
              "      <td>0.0</td>\n",
              "      <td>-0.045257</td>\n",
              "      <td>2</td>\n",
              "      <td>309.02222</td>\n",
              "    </tr>\n",
              "    <tr>\n",
              "      <th>3</th>\n",
              "      <td>0.0</td>\n",
              "      <td>-0.024693</td>\n",
              "      <td>3</td>\n",
              "      <td>309.77311</td>\n",
              "    </tr>\n",
              "    <tr>\n",
              "      <th>4</th>\n",
              "      <td>0.0</td>\n",
              "      <td>-0.001727</td>\n",
              "      <td>4</td>\n",
              "      <td>311.27405</td>\n",
              "    </tr>\n",
              "  </tbody>\n",
              "</table>\n",
              "</div>"
            ],
            "text/plain": [
              "   time       dff  event_number  event_time\n",
              "0   0.0 -0.059167             0   307.52099\n",
              "1   0.0  0.066646             1   308.27160\n",
              "2   0.0 -0.045257             2   309.02222\n",
              "3   0.0 -0.024693             3   309.77311\n",
              "4   0.0 -0.001727             4   311.27405"
            ]
          },
          "metadata": {
            "tags": []
          },
          "execution_count": 29
        }
      ]
    },
    {
      "cell_type": "code",
      "metadata": {
        "colab": {
          "base_uri": "https://localhost:8080/",
          "height": 367
        },
        "id": "Zaipi8BTJKkU",
        "outputId": "bb749d8e-a1da-4700-c669-d23a25362f18"
      },
      "source": [
        "plt.hist(etr_nov.dff, density = True)\n",
        "plt.hist(etr_fam.dff, density = True)"
      ],
      "execution_count": 30,
      "outputs": [
        {
          "output_type": "execute_result",
          "data": {
            "text/plain": [
              "(array([ 0.13186039,  1.22190625,  3.56023043,  8.08743703, 11.1378073 ,\n",
              "         8.20171603,  3.73604428,  1.13399932,  0.20218593,  0.01758138]),\n",
              " array([-0.12729062, -0.10057463, -0.07385864, -0.04714265, -0.02042666,\n",
              "         0.00628933,  0.03300532,  0.05972131,  0.08643729,  0.11315328,\n",
              "         0.13986927]),\n",
              " <a list of 10 Patch objects>)"
            ]
          },
          "metadata": {
            "tags": []
          },
          "execution_count": 30
        },
        {
          "output_type": "display_data",
          "data": {
            "image/png": "[encoded data removed]",
            "text/plain": [
              "<Figure size 432x288 with 1 Axes>"
            ]
          },
          "metadata": {
            "tags": [],
            "needs_background": "light"
          }
        }
      ]
    }
  ]
}