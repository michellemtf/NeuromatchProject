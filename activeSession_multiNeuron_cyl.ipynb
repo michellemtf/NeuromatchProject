{
  "nbformat": 4,
  "nbformat_minor": 0,
  "metadata": {
    "colab": {
      "name": "Copy of Untitled0.ipynb",
      "provenance": [],
      "collapsed_sections": [],
      "authorship_tag": "ABX9TyObKom62KKdLvwrFKdI+JP5",
      "include_colab_link": true
    },
    "kernelspec": {
      "name": "python3",
      "display_name": "Python 3"
    },
    "language_info": {
      "name": "python"
    }
  },
  "cells": [
    {
      "cell_type": "markdown",
      "metadata": {
        "id": "view-in-github",
        "colab_type": "text"
      },
      "source": [
        "<a href=\"https://colab.research.google.com/github/michellemtf/NeuromatchProject/blob/main/activeSession_multiNeuron_cyl.ipynb\" target=\"_parent\"><img src=\"https://colab.research.google.com/assets/colab-badge.svg\" alt=\"Open In Colab\"/></a>"
      ]
    },
    {
      "cell_type": "markdown",
      "metadata": {
        "id": "aT1SMSLJjkAN"
      },
      "source": [
        "## **Set up environment and import packages**"
      ]
    },
    {
      "cell_type": "markdown",
      "metadata": {
        "id": "NXdwP8aLjwfA"
      },
      "source": [
        "#### Install necessary packages"
      ]
    },
    {
      "cell_type": "code",
      "metadata": {
        "id": "6-N9wlu3jAZY"
      },
      "source": [
        "!python -m pip install --upgrade pip\n",
        "!pip install mindscope_utilities --upgrade"
      ],
      "execution_count": null,
      "outputs": []
    },
    {
      "cell_type": "markdown",
      "metadata": {
        "id": "0g9yyJ5njrqI"
      },
      "source": [
        "Next we will import packages we need later in the notebook"
      ]
    },
    {
      "cell_type": "code",
      "metadata": {
        "id": "zJIAEXJUjbiM"
      },
      "source": [
        "import os\n",
        "import numpy as np\n",
        "import pandas as pd\n",
        "from tqdm import tqdm\n",
        "import seaborn as sns\n",
        "import matplotlib.pyplot as plt\n",
        "\n",
        "import mindscope_utilities\n",
        "import mindscope_utilities.visual_behavior_ophys as ophys\n",
        "\n",
        "from allensdk.brain_observatory.behavior.behavior_project_cache import VisualBehaviorOphysProjectCache\n",
        "\n",
        "pd.set_option('display.max_columns', 500)"
      ],
      "execution_count": 2,
      "outputs": []
    },
    {
      "cell_type": "markdown",
      "metadata": {
        "id": "J5FEwEXQj5sc"
      },
      "source": [
        "# **# Load the session and experiment summary tables**"
      ]
    },
    {
      "cell_type": "code",
      "metadata": {
        "id": "L_ueVdBjkOZT"
      },
      "source": [
        "data_storage_directory = \"/temp\" # Note: this path must exist on your local drive\n",
        "cache = VisualBehaviorOphysProjectCache.from_s3_cache(cache_dir=data_storage_directory)"
      ],
      "execution_count": 3,
      "outputs": []
    },
    {
      "cell_type": "markdown",
      "metadata": {
        "id": "e1GELquGkTuq"
      },
      "source": [
        "Load summary tables"
      ]
    },
    {
      "cell_type": "code",
      "metadata": {
        "id": "_GAKb0ZJkX1Q"
      },
      "source": [
        "behavior_session_table = cache.get_behavior_session_table()\n",
        "ophys_session_table    = cache.get_ophys_session_table()\n",
        "ophys_experiment_table = cache.get_ophys_experiment_table()\n",
        "#ophys_experiment_table.head()\n",
        "#ophys_experiment_table['mouse_id']"
      ],
      "execution_count": 4,
      "outputs": []
    },
    {
      "cell_type": "code",
      "metadata": {
        "colab": {
          "base_uri": "https://localhost:8080/"
        },
        "id": "mf5YhujzqNyJ",
        "outputId": "0adf7b17-3520-48c0-c10d-b01f8cd63ce0"
      },
      "source": [
        "ophys_session_table.session_type.unique()"
      ],
      "execution_count": 5,
      "outputs": [
        {
          "output_type": "execute_result",
          "data": {
            "text/plain": [
              "array(['OPHYS_1_images_A', 'OPHYS_2_images_A_passive', 'OPHYS_3_images_A',\n",
              "       'OPHYS_4_images_B', 'OPHYS_5_images_B_passive', 'OPHYS_6_images_B',\n",
              "       'OPHYS_1_images_B', 'OPHYS_2_images_B_passive', 'OPHYS_3_images_B',\n",
              "       'OPHYS_4_images_A', 'OPHYS_6_images_A', 'OPHYS_5_images_A_passive'],\n",
              "      dtype=object)"
            ]
          },
          "metadata": {
            "tags": []
          },
          "execution_count": 5
        }
      ]
    },
    {
      "cell_type": "code",
      "metadata": {
        "id": "6RvtCCqqkjc0"
      },
      "source": [
        "# Dictionary with session types\n",
        "session_type = {'familiar_active':  ['OPHYS_1_images_A', 'OPHYS_3_images_A', 'OPHYS_4_images_A', 'OPHYS_6_images_A'],\n",
        "                'novel_active':     ['OPHYS_1_images_B', 'OPHYS_3_images_B', 'OPHYS_4_images_B', 'OPHYS_6_images_B'],\n",
        "                'familiar_passive': ['OPHYS_2_images_A_passive','OPHYS_5_images_A_passive'],\n",
        "                'novel_passive':    ['OPHYS_2_images_B_passive','OPHYS_5_images_B_passive']} # note: I think \"OPHYS_5_images_B_passive\" is novel, but not sure\n",
        "\n",
        "cre_line_type = ['Sst-IRES-Cre', 'Vip-IRES-Cre', 'Slc17a7-IRES2-Cre']\n",
        "\n",
        "print(f'*Ophys session types in the current dataset:*\\n\\n {ophys_session_table.session_type.unique()}',)             "
      ],
      "execution_count": null,
      "outputs": []
    },
    {
      "cell_type": "code",
      "metadata": {
        "id": "puJO4otckt8H"
      },
      "source": [
        "#cyllll label took the active sessions\n",
        "ind_active = (ophys_experiment_table.session_type.str.contains(session_type['familiar_active'][0]) |\n",
        "              ophys_experiment_table.session_type.str.contains(session_type['familiar_active'][1]) |\n",
        "              ophys_experiment_table.session_type.str.contains(session_type['familiar_active'][2]) |\n",
        "              ophys_experiment_table.session_type.str.contains(session_type['familiar_active'][3]) |\n",
        "              ophys_experiment_table.session_type.str.contains(session_type['novel_active'][0]) |\n",
        "              ophys_experiment_table.session_type.str.contains(session_type['novel_active'][1]) |\n",
        "              ophys_experiment_table.session_type.str.contains(session_type['novel_active'][2]) |\n",
        "              ophys_experiment_table.session_type.str.contains(session_type['novel_active'][3])) \n",
        "\n",
        "ind_passive = (ophys_experiment_table.session_type.str.contains(session_type['familiar_passive'][0]) |\n",
        "               ophys_experiment_table.session_type.str.contains(session_type['familiar_passive'][1]) |\n",
        "               ophys_experiment_table.session_type.str.contains(session_type['novel_passive'][0]) |\n",
        "               ophys_experiment_table.session_type.str.contains(session_type['novel_passive'][1])) "
      ],
      "execution_count": 7,
      "outputs": []
    },
    {
      "cell_type": "code",
      "metadata": {
        "id": "kPhxMyFkohqv"
      },
      "source": [
        "#print(ind_active.unique())\n",
        "#print(np.size(ind_active))\n",
        "#print(np.sum(ind_active == True))"
      ],
      "execution_count": null,
      "outputs": []
    },
    {
      "cell_type": "code",
      "metadata": {
        "id": "-TPEPBl9pMUS"
      },
      "source": [
        "#print(ind_passive.unique())\n",
        "#print(np.size(ind_passive))\n",
        "#print(np.sum(ind_passive == True))\n"
      ],
      "execution_count": null,
      "outputs": []
    },
    {
      "cell_type": "code",
      "metadata": {
        "id": "tkssqBsLofjT"
      },
      "source": [
        "#add the 'behavior_condition' in the ophys_experiment_table head, to distinguish between 'active' and 'passive'\n",
        "ind_active[ind_active==False] = 'passive'\n",
        "ind_active[ind_active==True]  = 'active' \n",
        "ophys_experiment_table['behavior_condition'] = ind_active"
      ],
      "execution_count": 8,
      "outputs": []
    },
    {
      "cell_type": "code",
      "metadata": {
        "colab": {
          "base_uri": "https://localhost:8080/"
        },
        "id": "7r8IYzyFqse3",
        "outputId": "54c4aefb-68a6-48de-a92a-2a749bcc3335"
      },
      "source": [
        "print(np.size(ind_active))\n",
        "print(ind_active.unique())\n",
        "print(np.sum(ind_active == 'passive'))\n",
        "print(np.sum(ind_active == 'active'))"
      ],
      "execution_count": 9,
      "outputs": [
        {
          "output_type": "stream",
          "text": [
            "1165\n",
            "['active' 'passive']\n",
            "339\n",
            "826\n"
          ],
          "name": "stdout"
        }
      ]
    },
    {
      "cell_type": "code",
      "metadata": {
        "id": "2slf2EFflQk3"
      },
      "source": [
        "# Familiar vs novel\n",
        "fam = session_type['familiar_active'] + session_type['familiar_passive'] \n",
        "\n",
        "i_fam = pd.Series([False]*ophys_experiment_table.shape[0]) #shape, help find the dimensions of the array\n",
        "for f in fam:\n",
        "  i_fam = (i_fam | ophys_experiment_table.session_type.str.contains(f))\n",
        "i_fam[i_fam==True]  = 'familiar'\n",
        "i_fam[i_fam==False] = 'novel'  \n",
        "ophys_experiment_table['experimental_condition'] = i_fam"
      ],
      "execution_count": 10,
      "outputs": []
    },
    {
      "cell_type": "code",
      "metadata": {
        "colab": {
          "base_uri": "https://localhost:8080/"
        },
        "id": "HBx72U0OqJ40",
        "outputId": "4cb5f550-c306-4097-bbad-246ad329a73a"
      },
      "source": [
        "#check the labels and condition numbers\n",
        "print(np.size(i_fam,0)) # i don't understand this doubled the 1165\n",
        "print(ophys_experiment_table.experimental_condition.unique())\n",
        "print(np.sum(ophys_experiment_table.experimental_condition == 'familiar'))\n",
        "print(np.sum(ophys_experiment_table.experimental_condition == 'novel'))"
      ],
      "execution_count": 11,
      "outputs": [
        {
          "output_type": "stream",
          "text": [
            "2330\n",
            "['novel' 'familiar']\n",
            "435\n",
            "730\n"
          ],
          "name": "stdout"
        }
      ]
    },
    {
      "cell_type": "markdown",
      "metadata": {
        "id": "s3UtPi2WtM4L"
      },
      "source": [
        "Find a container with familiar and novel sessions"
      ]
    },
    {
      "cell_type": "code",
      "metadata": {
        "id": "ipA597YUtOJH"
      },
      "source": [
        "# Containers-cyllllll -use the excitatory neuron here\n",
        "i_fam = ophys_experiment_table.query('cre_line == \"Slc17a7-IRES2-Cre\" and behavior_condition == \"active\" and experimental_condition == \"familiar\"')['ophys_container_id']\n",
        "i_nov = ophys_experiment_table.query('cre_line == \"Slc17a7-IRES2-Cre\" and behavior_condition == \"active\" and experimental_condition == \"novel\"')['ophys_container_id']\n",
        "\n",
        "# Which containers are in both conditions\n",
        "unic_fam = i_fam.unique()\n",
        "i_both = []\n",
        "for i,row in enumerate(unic_fam):\n",
        "  if (row == i_nov.values).any():\n",
        "    i_both.append(i)\n",
        "    \n",
        "# Choose the first container with fam & nov conditions\n",
        "id_contain = unic_fam[i_both[0]]"
      ],
      "execution_count": 12,
      "outputs": []
    },
    {
      "cell_type": "code",
      "metadata": {
        "colab": {
          "base_uri": "https://localhost:8080/"
        },
        "id": "SUzdPDd8vM1b",
        "outputId": "a158504f-0442-452b-d39e-efd2f1f22527"
      },
      "source": [
        "print(np.size(i_both))\n",
        "print(id_contain)"
      ],
      "execution_count": 13,
      "outputs": [
        {
          "output_type": "stream",
          "text": [
            "78\n",
            "991913064\n"
          ],
          "name": "stdout"
        }
      ]
    },
    {
      "cell_type": "markdown",
      "metadata": {
        "id": "nyzlfI-qviYq"
      },
      "source": [
        "Select the experiments of a specific container"
      ]
    },
    {
      "cell_type": "code",
      "metadata": {
        "id": "pRrdSTOsvjUU"
      },
      "source": [
        "#cyllll\n",
        "exper_famil = ophys_experiment_table.query('cre_line == \"Slc17a7-IRES2-Cre\" and behavior_condition == \"active\" and experimental_condition == \"familiar\" and ophys_container_id == @id_contain')\n",
        "exper_novel = ophys_experiment_table.query('cre_line == \"Slc17a7-IRES2-Cre\" and behavior_condition == \"active\" and experimental_condition == \"novel\" and ophys_container_id == @id_contain')"
      ],
      "execution_count": 14,
      "outputs": []
    },
    {
      "cell_type": "code",
      "metadata": {
        "id": "VlumR7cx-BkK"
      },
      "source": [
        "#exper_famil"
      ],
      "execution_count": null,
      "outputs": []
    },
    {
      "cell_type": "code",
      "metadata": {
        "id": "d_Jk10pc-UAL"
      },
      "source": [
        "#exper_novel"
      ],
      "execution_count": null,
      "outputs": []
    },
    {
      "cell_type": "markdown",
      "metadata": {
        "id": "383nz5ZZzPa_"
      },
      "source": [
        "## **Load one example session**"
      ]
    },
    {
      "cell_type": "code",
      "metadata": {
        "id": "-usCup1VzSuy"
      },
      "source": [
        "# Ophys experimental ID (choose the first experiment of familiar and novel conditions)\n",
        "ophys_experiment_id_fam = exper_famil.index[0] \n",
        "ophys_experiment_id_nov = exper_novel.index[0]\n",
        "\n",
        "# Download particular ophys experiments\n",
        "fam_experiment = cache.get_behavior_ophys_experiment(ophys_experiment_id_fam)\n",
        "nov_experiment = cache.get_behavior_ophys_experiment(ophys_experiment_id_nov)"
      ],
      "execution_count": 16,
      "outputs": []
    },
    {
      "cell_type": "markdown",
      "metadata": {
        "id": "elqAaasP_N_4"
      },
      "source": [
        "Structure the data"
      ]
    },
    {
      "cell_type": "code",
      "metadata": {
        "id": "xoZpU_ZLCEye"
      },
      "source": [
        "nov_experiment_neural_data = ophys.build_tidy_cell_df(nov_experiment)\n",
        "fam_experiment_neural_data = ophys.build_tidy_cell_df(fam_experiment)"
      ],
      "execution_count": 17,
      "outputs": []
    },
    {
      "cell_type": "markdown",
      "metadata": {
        "id": "pWDR8Ucv_ZJd"
      },
      "source": [
        "## **Examine Cell IDs**"
      ]
    },
    {
      "cell_type": "code",
      "metadata": {
        "id": "l3gknFfE_c3s"
      },
      "source": [
        "#cyllllll\n",
        "cell_ids_fam = fam_experiment_neural_data['cell_specimen_id'].unique()\n",
        "print('there are {} unique cells for fam'.format(len(cell_ids_fam)))\n",
        "print('cell ids are: {}'.format(cell_ids_fam))\n",
        "\n",
        "cell_ids_nov = nov_experiment_neural_data['cell_specimen_id'].unique()\n",
        "print('there are {} unique cells for nov'.format(len(cell_ids_nov)))\n",
        "print('cell ids are: {}'.format(cell_ids_nov))\n",
        "\n",
        "# Choose only one neuron ID\n",
        "cell_id_fam = cell_ids_fam[0:2]\n",
        "cell_id_nov = cell_ids_nov[0:2]"
      ],
      "execution_count": null,
      "outputs": []
    },
    {
      "cell_type": "code",
      "metadata": {
        "id": "Ns92PTAm_4ba"
      },
      "source": [
        "#fam_single_cell_timeseries = fam_experiment_neural_data.query('cell_specimen_id == @cell_id_fam')\n",
        "#nov_single_cell_timeseries = nov_experiment_neural_data.query('cell_specimen_id == @cell_id_nov')"
      ],
      "execution_count": 36,
      "outputs": []
    },
    {
      "cell_type": "code",
      "metadata": {
        "id": "wEEp9hNS_8DY"
      },
      "source": [
        "#cyllll\n",
        "fam_stimulus_table = fam_experiment.stimulus_presentations\n",
        "nov_stimulus_table = nov_experiment.stimulus_presentations"
      ],
      "execution_count": 26,
      "outputs": []
    },
    {
      "cell_type": "code",
      "metadata": {
        "id": "hyXlBeC78jqs"
      },
      "source": [
        "#for cell_idssss in cell_id_nov:\n",
        "ETR_NOV = np.zeros([4264, 2]) #pick 2 neuron first\n",
        "i = 0\n",
        "for temp_cell_id in cell_id_nov:\n",
        "  etr_nov = mindscope_utilities.event_triggered_response(\n",
        "  data = nov_experiment_neural_data.query('cell_specimen_id == @temp_cell_id'),\n",
        "  t = 'timestamps',\n",
        "  y = 'dff',\n",
        "  event_times = nov_stimulus_table.query('is_change == False and omitted == False')['start_time'], #no change images\n",
        "  t_before=0,\n",
        "  t_after=0.5,\n",
        "  output_sampling_rate = 1,\n",
        "  )\n",
        "  #print(np.size(etr_nov.dff, 0))\n",
        "  ETR_NOV[:,i] = etr_nov.dff\n",
        "  i = i+1"
      ],
      "execution_count": null,
      "outputs": []
    },
    {
      "cell_type": "code",
      "metadata": {
        "colab": {
          "base_uri": "https://localhost:8080/"
        },
        "id": "poWOKvPdACj9",
        "outputId": "6ae04fad-eda4-4a25-95ea-38d37af9715e"
      },
      "source": [
        "#for cell_idssss in cell_id_nov:\n",
        "ETR_FAM = np.zeros([4278, 2]) #pick 2 neuron first\n",
        "i = 0\n",
        "for temp_cell_id in cell_id_fam:\n",
        "  etr_fam = mindscope_utilities.event_triggered_response(\n",
        "  data = fam_experiment_neural_data.query('cell_specimen_id == @temp_cell_id'),\n",
        "  t = 'timestamps',\n",
        "  y = 'dff',\n",
        "  event_times = fam_stimulus_table.query('is_change == False and omitted == False')['start_time'], #no change images\n",
        "  t_before=0,\n",
        "  t_after=0.5,\n",
        "  output_sampling_rate = 1,\n",
        "  )\n",
        "  print(np.size(etr_fam.dff, 0))\n",
        "  ETR_FAM[:,i] = etr_fam.dff\n",
        "  i = i+1"
      ],
      "execution_count": 48,
      "outputs": [
        {
          "output_type": "stream",
          "text": [
            "4278\n",
            "4278\n"
          ],
          "name": "stdout"
        }
      ]
    },
    {
      "cell_type": "code",
      "metadata": {
        "id": "S2Jnyez3GKw1"
      },
      "source": [
        "event_times = nov_stimulus_table.query('is_change == False  and omitted == False')['start_time']\n",
        "print(np.size(event_times))"
      ],
      "execution_count": null,
      "outputs": []
    },
    {
      "cell_type": "code",
      "metadata": {
        "colab": {
          "base_uri": "https://localhost:8080/",
          "height": 367
        },
        "id": "Zaipi8BTJKkU",
        "outputId": "8eeb2c57-3bda-4904-9761-f3aef99150df"
      },
      "source": [
        "plt.hist(etr_nov.dff, density = True)\n",
        "plt.hist(etr_fam.dff, density = True)"
      ],
      "execution_count": 50,
      "outputs": [
        {
          "output_type": "execute_result",
          "data": {
            "text/plain": [
              "(array([ 0.12138832,  0.93375629,  2.99735769,  7.17124831, 10.26198163,\n",
              "         9.75775323,  5.47181186,  2.37174098,  0.64429184,  0.21476395]),\n",
              " array([-0.13053059, -0.10549686, -0.08046312, -0.05542938, -0.03039565,\n",
              "        -0.00536191,  0.01967183,  0.04470556,  0.0697393 ,  0.09477304,\n",
              "         0.11980677]),\n",
              " <a list of 10 Patch objects>)"
            ]
          },
          "metadata": {
            "tags": []
          },
          "execution_count": 50
        },
        {
          "output_type": "display_data",
          "data": {
            "image/png": "[encoded data removed]",
            "text/plain": [
              "<Figure size 432x288 with 1 Axes>"
            ]
          },
          "metadata": {
            "tags": [],
            "needs_background": "light"
          }
        }
      ]
    }
  ]
}