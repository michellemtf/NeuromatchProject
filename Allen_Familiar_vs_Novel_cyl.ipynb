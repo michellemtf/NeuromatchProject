{
  "nbformat": 4,
  "nbformat_minor": 0,
  "metadata": {
    "colab": {
      "name": "Copy of load_Allen_Familiar_vs_Novel",
      "provenance": [],
      "collapsed_sections": [],
      "include_colab_link": true
    },
    "kernelspec": {
      "display_name": "Python 3",
      "name": "python3"
    },
    "language_info": {
      "name": "python"
    }
  },
  "cells": [
    {
      "cell_type": "markdown",
      "metadata": {
        "id": "view-in-github",
        "colab_type": "text"
      },
      "source": [
        "<a href=\"https://colab.research.google.com/github/michellemtf/NeuromatchProject/blob/main/Allen_Familiar_vs_Novel_cyl.ipynb\" target=\"_parent\"><img src=\"https://colab.research.google.com/assets/colab-badge.svg\" alt=\"Open In Colab\"/></a>"
      ]
    },
    {
      "cell_type": "markdown",
      "metadata": {
        "id": "I1CeSqXjhY2k"
      },
      "source": [
        "# Overview\n",
        "The following notebook demonstrates how to load neural data for experiments in the same plane, but in different sessions (`same container`), to compare neural activity during familiar vs novel conditions. "
      ]
    },
    {
      "cell_type": "markdown",
      "metadata": {
        "id": "aT9844s2hkvw"
      },
      "source": [
        "# Set up environment and import packages"
      ]
    },
    {
      "cell_type": "markdown",
      "metadata": {
        "id": "00Maa0v-hvoD"
      },
      "source": [
        "We have built a package called `mindscope_utilities` which contains some useful convenience functions. The `allenSDK` is a dependency of this package and will be automatically installed when you install `mindscope_utilities` per the instrutions below.\n",
        "\n",
        "We will first install `mindscope_utilities` into our colab environment by running the commands below. When this cell is complete, click on the `RESTART RUNTIME` button that appears at the end of the output. Note that running this cell will produce a long list of outputs and some error messages. Clicking `RESTART RUNTIME` at the end will resolve these issues. \n",
        "\n",
        "You can minimize the cell after you are done to hide the output. "
      ]
    },
    {
      "cell_type": "markdown",
      "metadata": {
        "id": "PPF6qq5jLmNL"
      },
      "source": [
        "#### Install necessary packages"
      ]
    },
    {
      "cell_type": "code",
      "metadata": {
        "id": "1Xm2F5-0aIN2",
        "colab": {
          "base_uri": "https://localhost:8080/"
        },
        "outputId": "e76bfe74-27fb-41fd-a0c7-4f3f1eb27d8d"
      },
      "source": [
        "!python -m pip install --upgrade pip\n",
        "!pip install mindscope_utilities --upgrade"
      ],
      "execution_count": 1,
      "outputs": [
        {
          "output_type": "stream",
          "text": [
            "Requirement already satisfied: pip in /usr/local/lib/python3.7/dist-packages (21.1.3)\n",
            "\u001b[33mWARNING: Running pip as the 'root' user can result in broken permissions and conflicting behaviour with the system package manager. It is recommended to use a virtual environment instead: https://pip.pypa.io/warnings/venv\u001b[0m\n",
            "Requirement already satisfied: mindscope_utilities in /usr/local/lib/python3.7/dist-packages (0.1.7)\n",
            "Requirement already satisfied: allensdk==2.11.2 in /usr/local/lib/python3.7/dist-packages (from mindscope_utilities) (2.11.2)\n",
            "Requirement already satisfied: pytest in /usr/local/lib/python3.7/dist-packages (from mindscope_utilities) (3.6.4)\n",
            "Requirement already satisfied: flake8 in /usr/local/lib/python3.7/dist-packages (from mindscope_utilities) (3.9.2)\n",
            "Requirement already satisfied: scikit-image<0.17.0,>=0.14.0 in /usr/local/lib/python3.7/dist-packages (from allensdk==2.11.2->mindscope_utilities) (0.16.2)\n",
            "Requirement already satisfied: requests<3.0.0 in /usr/local/lib/python3.7/dist-packages (from allensdk==2.11.2->mindscope_utilities) (2.23.0)\n",
            "Requirement already satisfied: numpy<1.19.0,>=1.15.4 in /usr/local/lib/python3.7/dist-packages (from allensdk==2.11.2->mindscope_utilities) (1.18.5)\n",
            "Requirement already satisfied: pynwb<2.0.0,>=1.3.2 in /usr/local/lib/python3.7/dist-packages (from allensdk==2.11.2->mindscope_utilities) (1.4.0)\n",
            "Requirement already satisfied: pynrrd<1.0.0,>=0.2.1 in /usr/local/lib/python3.7/dist-packages (from allensdk==2.11.2->mindscope_utilities) (0.4.2)\n",
            "Requirement already satisfied: semver in /usr/local/lib/python3.7/dist-packages (from allensdk==2.11.2->mindscope_utilities) (2.13.0)\n",
            "Requirement already satisfied: psycopg2-binary<3.0.0,>=2.7 in /usr/local/lib/python3.7/dist-packages (from allensdk==2.11.2->mindscope_utilities) (2.9.1)\n",
            "Requirement already satisfied: pandas<=0.25.3,>=0.25.1 in /usr/local/lib/python3.7/dist-packages (from allensdk==2.11.2->mindscope_utilities) (0.25.3)\n",
            "Requirement already satisfied: seaborn<1.0.0 in /usr/local/lib/python3.7/dist-packages (from allensdk==2.11.2->mindscope_utilities) (0.11.1)\n",
            "Requirement already satisfied: simpleitk<3.0.0,>=2.0.2 in /usr/local/lib/python3.7/dist-packages (from allensdk==2.11.2->mindscope_utilities) (2.0.2)\n",
            "Requirement already satisfied: hdmf<2.5.0 in /usr/local/lib/python3.7/dist-packages (from allensdk==2.11.2->mindscope_utilities) (2.4.0)\n",
            "Requirement already satisfied: scipy<2.0.0,>=1.4.0 in /usr/local/lib/python3.7/dist-packages (from allensdk==2.11.2->mindscope_utilities) (1.4.1)\n",
            "Requirement already satisfied: glymur==0.8.19 in /usr/local/lib/python3.7/dist-packages (from allensdk==2.11.2->mindscope_utilities) (0.8.19)\n",
            "Requirement already satisfied: six<2.0.0,>=1.9.0 in /usr/local/lib/python3.7/dist-packages (from allensdk==2.11.2->mindscope_utilities) (1.15.0)\n",
            "Requirement already satisfied: aiohttp==3.7.4 in /usr/local/lib/python3.7/dist-packages (from allensdk==2.11.2->mindscope_utilities) (3.7.4)\n",
            "Requirement already satisfied: simplejson<4.0.0,>=3.10.0 in /usr/local/lib/python3.7/dist-packages (from allensdk==2.11.2->mindscope_utilities) (3.17.3)\n",
            "Requirement already satisfied: matplotlib<4.0.0,>=1.4.3 in /usr/local/lib/python3.7/dist-packages (from allensdk==2.11.2->mindscope_utilities) (3.2.2)\n",
            "Requirement already satisfied: marshmallow==3.0.0rc6 in /usr/local/lib/python3.7/dist-packages (from allensdk==2.11.2->mindscope_utilities) (3.0.0rc6)\n",
            "Requirement already satisfied: statsmodels<=0.13.0 in /usr/local/lib/python3.7/dist-packages (from allensdk==2.11.2->mindscope_utilities) (0.10.2)\n",
            "Requirement already satisfied: tables<4.0.0,>=3.6.0 in /usr/local/lib/python3.7/dist-packages (from allensdk==2.11.2->mindscope_utilities) (3.6.1)\n",
            "Requirement already satisfied: nest-asyncio==1.2.0 in /usr/local/lib/python3.7/dist-packages (from allensdk==2.11.2->mindscope_utilities) (1.2.0)\n",
            "Requirement already satisfied: ndx-events<=0.2.0 in /usr/local/lib/python3.7/dist-packages (from allensdk==2.11.2->mindscope_utilities) (0.2.0)\n",
            "Requirement already satisfied: xarray<0.16.0 in /usr/local/lib/python3.7/dist-packages (from allensdk==2.11.2->mindscope_utilities) (0.15.1)\n",
            "Requirement already satisfied: h5py<3.0.0,>=2.8 in /usr/local/lib/python3.7/dist-packages (from allensdk==2.11.2->mindscope_utilities) (2.10.0)\n",
            "Requirement already satisfied: future<1.0.0,>=0.14.3 in /usr/local/lib/python3.7/dist-packages (from allensdk==2.11.2->mindscope_utilities) (0.16.0)\n",
            "Requirement already satisfied: requests-toolbelt<1.0.0 in /usr/local/lib/python3.7/dist-packages (from allensdk==2.11.2->mindscope_utilities) (0.9.1)\n",
            "Requirement already satisfied: tqdm>=4.27 in /usr/local/lib/python3.7/dist-packages (from allensdk==2.11.2->mindscope_utilities) (4.41.1)\n",
            "Requirement already satisfied: jinja2<2.12.0,>=2.7.3 in /usr/local/lib/python3.7/dist-packages (from allensdk==2.11.2->mindscope_utilities) (2.11.3)\n",
            "Requirement already satisfied: scikit-build<1.0.0 in /usr/local/lib/python3.7/dist-packages (from allensdk==2.11.2->mindscope_utilities) (0.11.1)\n",
            "Requirement already satisfied: boto3==1.17.21 in /usr/local/lib/python3.7/dist-packages (from allensdk==2.11.2->mindscope_utilities) (1.17.21)\n",
            "Requirement already satisfied: argschema<3.0.0 in /usr/local/lib/python3.7/dist-packages (from allensdk==2.11.2->mindscope_utilities) (2.0.2)\n",
            "Requirement already satisfied: multidict<7.0,>=4.5 in /usr/local/lib/python3.7/dist-packages (from aiohttp==3.7.4->allensdk==2.11.2->mindscope_utilities) (5.1.0)\n",
            "Requirement already satisfied: chardet<4.0,>=2.0 in /usr/local/lib/python3.7/dist-packages (from aiohttp==3.7.4->allensdk==2.11.2->mindscope_utilities) (3.0.4)\n",
            "Requirement already satisfied: async-timeout<4.0,>=3.0 in /usr/local/lib/python3.7/dist-packages (from aiohttp==3.7.4->allensdk==2.11.2->mindscope_utilities) (3.0.1)\n",
            "Requirement already satisfied: yarl<2.0,>=1.0 in /usr/local/lib/python3.7/dist-packages (from aiohttp==3.7.4->allensdk==2.11.2->mindscope_utilities) (1.6.3)\n",
            "Requirement already satisfied: typing-extensions>=3.6.5 in /usr/local/lib/python3.7/dist-packages (from aiohttp==3.7.4->allensdk==2.11.2->mindscope_utilities) (3.7.4.3)\n",
            "Requirement already satisfied: attrs>=17.3.0 in /usr/local/lib/python3.7/dist-packages (from aiohttp==3.7.4->allensdk==2.11.2->mindscope_utilities) (21.2.0)\n",
            "Requirement already satisfied: botocore<1.21.0,>=1.20.21 in /usr/local/lib/python3.7/dist-packages (from boto3==1.17.21->allensdk==2.11.2->mindscope_utilities) (1.20.112)\n",
            "Requirement already satisfied: jmespath<1.0.0,>=0.7.1 in /usr/local/lib/python3.7/dist-packages (from boto3==1.17.21->allensdk==2.11.2->mindscope_utilities) (0.10.0)\n",
            "Requirement already satisfied: s3transfer<0.4.0,>=0.3.0 in /usr/local/lib/python3.7/dist-packages (from boto3==1.17.21->allensdk==2.11.2->mindscope_utilities) (0.3.7)\n",
            "Requirement already satisfied: setuptools in /usr/local/lib/python3.7/dist-packages (from glymur==0.8.19->allensdk==2.11.2->mindscope_utilities) (57.0.0)\n",
            "Requirement already satisfied: python-dateutil<3.0.0,>=2.1 in /usr/local/lib/python3.7/dist-packages (from botocore<1.21.0,>=1.20.21->boto3==1.17.21->allensdk==2.11.2->mindscope_utilities) (2.8.1)\n",
            "Requirement already satisfied: urllib3<1.27,>=1.25.4 in /usr/local/lib/python3.7/dist-packages (from botocore<1.21.0,>=1.20.21->boto3==1.17.21->allensdk==2.11.2->mindscope_utilities) (1.25.11)\n",
            "Requirement already satisfied: ruamel.yaml<1,>=0.15 in /usr/local/lib/python3.7/dist-packages (from hdmf<2.5.0->allensdk==2.11.2->mindscope_utilities) (0.17.10)\n",
            "Requirement already satisfied: jsonschema<4,>=2.6.0 in /usr/local/lib/python3.7/dist-packages (from hdmf<2.5.0->allensdk==2.11.2->mindscope_utilities) (2.6.0)\n",
            "Requirement already satisfied: MarkupSafe>=0.23 in /usr/local/lib/python3.7/dist-packages (from jinja2<2.12.0,>=2.7.3->allensdk==2.11.2->mindscope_utilities) (2.0.1)\n",
            "Requirement already satisfied: kiwisolver>=1.0.1 in /usr/local/lib/python3.7/dist-packages (from matplotlib<4.0.0,>=1.4.3->allensdk==2.11.2->mindscope_utilities) (1.3.1)\n",
            "Requirement already satisfied: pyparsing!=2.0.4,!=2.1.2,!=2.1.6,>=2.0.1 in /usr/local/lib/python3.7/dist-packages (from matplotlib<4.0.0,>=1.4.3->allensdk==2.11.2->mindscope_utilities) (2.4.7)\n",
            "Requirement already satisfied: cycler>=0.10 in /usr/local/lib/python3.7/dist-packages (from matplotlib<4.0.0,>=1.4.3->allensdk==2.11.2->mindscope_utilities) (0.10.0)\n",
            "Requirement already satisfied: pytz>=2017.2 in /usr/local/lib/python3.7/dist-packages (from pandas<=0.25.3,>=0.25.1->allensdk==2.11.2->mindscope_utilities) (2018.9)\n",
            "Requirement already satisfied: idna<3,>=2.5 in /usr/local/lib/python3.7/dist-packages (from requests<3.0.0->allensdk==2.11.2->mindscope_utilities) (2.10)\n",
            "Requirement already satisfied: certifi>=2017.4.17 in /usr/local/lib/python3.7/dist-packages (from requests<3.0.0->allensdk==2.11.2->mindscope_utilities) (2021.5.30)\n",
            "Requirement already satisfied: ruamel.yaml.clib>=0.1.2 in /usr/local/lib/python3.7/dist-packages (from ruamel.yaml<1,>=0.15->hdmf<2.5.0->allensdk==2.11.2->mindscope_utilities) (0.2.6)\n",
            "Requirement already satisfied: distro in /usr/local/lib/python3.7/dist-packages (from scikit-build<1.0.0->allensdk==2.11.2->mindscope_utilities) (1.5.0)\n",
            "Requirement already satisfied: packaging in /usr/local/lib/python3.7/dist-packages (from scikit-build<1.0.0->allensdk==2.11.2->mindscope_utilities) (20.9)\n",
            "Requirement already satisfied: wheel>=0.29.0 in /usr/local/lib/python3.7/dist-packages (from scikit-build<1.0.0->allensdk==2.11.2->mindscope_utilities) (0.36.2)\n",
            "Requirement already satisfied: imageio>=2.3.0 in /usr/local/lib/python3.7/dist-packages (from scikit-image<0.17.0,>=0.14.0->allensdk==2.11.2->mindscope_utilities) (2.4.1)\n",
            "Requirement already satisfied: pillow>=4.3.0 in /usr/local/lib/python3.7/dist-packages (from scikit-image<0.17.0,>=0.14.0->allensdk==2.11.2->mindscope_utilities) (7.1.2)\n",
            "Requirement already satisfied: PyWavelets>=0.4.0 in /usr/local/lib/python3.7/dist-packages (from scikit-image<0.17.0,>=0.14.0->allensdk==2.11.2->mindscope_utilities) (1.1.1)\n",
            "Requirement already satisfied: networkx>=2.0 in /usr/local/lib/python3.7/dist-packages (from scikit-image<0.17.0,>=0.14.0->allensdk==2.11.2->mindscope_utilities) (2.5.1)\n",
            "Requirement already satisfied: decorator<5,>=4.3 in /usr/local/lib/python3.7/dist-packages (from networkx>=2.0->scikit-image<0.17.0,>=0.14.0->allensdk==2.11.2->mindscope_utilities) (4.4.2)\n",
            "Requirement already satisfied: patsy>=0.4.0 in /usr/local/lib/python3.7/dist-packages (from statsmodels<=0.13.0->allensdk==2.11.2->mindscope_utilities) (0.5.1)\n",
            "Requirement already satisfied: numexpr>=2.6.2 in /usr/local/lib/python3.7/dist-packages (from tables<4.0.0,>=3.6.0->allensdk==2.11.2->mindscope_utilities) (2.7.3)\n",
            "Requirement already satisfied: pycodestyle<2.8.0,>=2.7.0 in /usr/local/lib/python3.7/dist-packages (from flake8->mindscope_utilities) (2.7.0)\n",
            "Requirement already satisfied: importlib-metadata in /usr/local/lib/python3.7/dist-packages (from flake8->mindscope_utilities) (4.6.0)\n",
            "Requirement already satisfied: pyflakes<2.4.0,>=2.3.0 in /usr/local/lib/python3.7/dist-packages (from flake8->mindscope_utilities) (2.3.1)\n",
            "Requirement already satisfied: mccabe<0.7.0,>=0.6.0 in /usr/local/lib/python3.7/dist-packages (from flake8->mindscope_utilities) (0.6.1)\n",
            "Requirement already satisfied: zipp>=0.5 in /usr/local/lib/python3.7/dist-packages (from importlib-metadata->flake8->mindscope_utilities) (3.4.1)\n",
            "Requirement already satisfied: pluggy<0.8,>=0.5 in /usr/local/lib/python3.7/dist-packages (from pytest->mindscope_utilities) (0.7.1)\n",
            "Requirement already satisfied: more-itertools>=4.0.0 in /usr/local/lib/python3.7/dist-packages (from pytest->mindscope_utilities) (8.8.0)\n",
            "Requirement already satisfied: py>=1.5.0 in /usr/local/lib/python3.7/dist-packages (from pytest->mindscope_utilities) (1.10.0)\n",
            "Requirement already satisfied: atomicwrites>=1.0 in /usr/local/lib/python3.7/dist-packages (from pytest->mindscope_utilities) (1.4.0)\n",
            "\u001b[33mWARNING: Running pip as the 'root' user can result in broken permissions and conflicting behaviour with the system package manager. It is recommended to use a virtual environment instead: https://pip.pypa.io/warnings/venv\u001b[0m\n"
          ],
          "name": "stdout"
        }
      ]
    },
    {
      "cell_type": "markdown",
      "metadata": {
        "id": "0iT7O4WaiYAH"
      },
      "source": [
        "#### Next we will import packages we need later in the notebook"
      ]
    },
    {
      "cell_type": "code",
      "metadata": {
        "id": "cgFHDxOcaJut"
      },
      "source": [
        "import os\n",
        "import numpy as np\n",
        "import pandas as pd\n",
        "from tqdm import tqdm\n",
        "import seaborn as sns\n",
        "import matplotlib.pyplot as plt\n",
        "\n",
        "import mindscope_utilities\n",
        "import mindscope_utilities.visual_behavior_ophys as ophys\n",
        "\n",
        "from allensdk.brain_observatory.behavior.behavior_project_cache import VisualBehaviorOphysProjectCache\n",
        "\n",
        "pd.set_option('display.max_columns', 500)"
      ],
      "execution_count": 2,
      "outputs": []
    },
    {
      "cell_type": "markdown",
      "metadata": {
        "id": "FjFtKoQ2id_6"
      },
      "source": [
        "# Load the session and experiment summary tables\n",
        "\n",
        "The AllenSDK provides functionality for downloading tables that describe all sessions and experiments (individual imaging planes) in the Visual Behavior 2P dataset. We first download the data cache:"
      ]
    },
    {
      "cell_type": "code",
      "metadata": {
        "id": "pvamvtoUbWTR"
      },
      "source": [
        "data_storage_directory = \"/temp\" # Note: this path must exist on your local drive\n",
        "cache = VisualBehaviorOphysProjectCache.from_s3_cache(cache_dir=data_storage_directory)"
      ],
      "execution_count": 3,
      "outputs": []
    },
    {
      "cell_type": "markdown",
      "metadata": {
        "id": "R-QjvnxxBVd0"
      },
      "source": [
        "The data manifest is comprised of three types of tables: \n",
        "\n",
        "1. `behavior_session_table` \n",
        "2. `ophys_session_table` \n",
        "3. `ophys_experiment_table` "
      ]
    },
    {
      "cell_type": "markdown",
      "metadata": {
        "id": "8i-bdFCLQImS"
      },
      "source": [
        "---\n",
        "\n",
        "The `behavior_session_table` contains metadata for every behavior session in the dataset. **Some behavior sessions have 2-photon data associated with them, while others took place during training in the behavior facility**. The different training stages that mice are progressed through are described by the session_type.\n",
        "\n",
        "---\n",
        "\n",
        "The `ophys_session_table` contains **metadata for every 2-photon imaging** (aka optical physiology, or ophys) **session in the dataset, associated with a unique ophys_session_id**. An ophys session is one continuous recording session under the microscope, and can contain different numbers of imaging planes (aka experiments) depending on which microscope was used. \n",
        "- For Scientifica sessions, there will only be one experiment (aka imaging plane) per session. \n",
        "- For Multiscope sessions, there can be up to eight imaging planes per session. \n",
        "\n",
        "Quality Control (QC) is performed on each individual imaging plane within a session, so each can fail QC independent of the others. This means that a Multiscope session may not have exactly eight experiments (imaging planes).\n",
        "\n",
        "---\n",
        "\n",
        "The `ophys_experiment_table` contains **metadata for every ophys experiment in the dataset, which corresponds to a single imaging plane recorded in a single session, and associated with a unique ophys_experiment_id**. \n",
        "\n",
        "A key part of our experimental design is targeting a given population of neurons, contained in one imaging plane, across multiple session_types (further described below) to examine the impact of varying sensory and behavioral conditions on single cell responses. The collection of all imaging sessions for a given imaging plane is referred to as an ophys container, associated with a unique ophys_container_id. Each ophys container may contain different numbers of sessions, depending on which experiments passed QC, and how many retakes occured (when a given session_type fails QC on the first try, an attempt is made to re-acquire the session_type on a different recording day - this is called a retake, also described further below)\n",
        "\n",
        "---"
      ]
    },
    {
      "cell_type": "markdown",
      "metadata": {
        "id": "VnpMLN02BxJ3"
      },
      "source": [
        "<div>\n",
        "<img src=\"https://allensdk.readthedocs.io/en/latest/_static/visual_behavior_2p/data_structure.png\", width=\"1000\"/>\n",
        "</div>"
      ]
    },
    {
      "cell_type": "markdown",
      "metadata": {
        "id": "EP7eUwCG-z0Z"
      },
      "source": [
        "# Load summary tables"
      ]
    },
    {
      "cell_type": "markdown",
      "metadata": {
        "id": "XL5LV5fti5tc"
      },
      "source": [
        "Then we can access the session and experiment tables directly.\n",
        "\n",
        "Note that a 'session' is a single behavioral session. Sessions that are performed on the mesoscope will have multiple (up to 8) 'experiments' associated with them, where an experiment is a distinct imaging plane. "
      ]
    },
    {
      "cell_type": "code",
      "metadata": {
        "id": "pOCbdeNbd7w8"
      },
      "source": [
        "behavior_session_table = cache.get_behavior_session_table()\n",
        "ophys_session_table    = cache.get_ophys_session_table()\n",
        "ophys_experiment_table = cache.get_ophys_experiment_table()\n",
        "#ophys_experiment_table.head()\n",
        "#ophys_experiment_table['mouse_id']"
      ],
      "execution_count": 4,
      "outputs": []
    },
    {
      "cell_type": "markdown",
      "metadata": {
        "id": "bNJh5w7dFQw7"
      },
      "source": [
        "During the 2-photon imaging portion of the experiment, **mice perform the task with the same set of images they saw during training (either image set A or B), as well as an additional novel set of images (whichever of A or B that they did not see during training)**. This allows evaluation of the impact of different sensory contexts on neural activity - familiarity versus novelty. \n",
        "\n",
        "- Sessions with `familiar` images include those starting with `OPHYS_0, OPHYS_1, OPHYS_2, and OPHYS_3`. \n",
        "- Sessions with `novel` images include those starting with `OPHYS_4, OPHYS_5, and OPHYS_6`.\n",
        "\n",
        "Interleaved between active behavior sessions are `passive` viewing sessions where mice are given their daily water ahead of the sesssion (and are thus satiated) and view the stimulus with the lick spout retracted so they are unable to earn water rewards. This allows comparison of neural activity in response to stimuli under different behavioral context - **active task engagement and passive viewing without reward**. \n",
        "\n",
        "- `Passive sessions` include `OPHYS_2_images_A_passive` (passive session with familiar images), and `OPHYS_5_images_A_passive` (passive session with novel images)."
      ]
    },
    {
      "cell_type": "code",
      "metadata": {
        "colab": {
          "base_uri": "https://localhost:8080/"
        },
        "id": "Dnm5viIFGIzV",
        "outputId": "02243f37-bce7-44b9-c5c4-41a670c188e5"
      },
      "source": [
        "# Dictionary with session types\n",
        "#we will pick 'OPHYS_2_images_A_passive' and 'OPHYS_5_images_A_passive' - cyl\n",
        "session_type = {'familiar_active': ['OPHYS_0', 'OPHYS_1', 'OPHYS_2', 'OPHYS_3'],\n",
        "                'novel_active':    ['OPHYS_4', 'OPHYS_5', 'OPHYS_6'],\n",
        "                'familiar_pasive': ['OPHYS_2_images_A_passive'],\n",
        "                'novel_pasive':    ['OPHYS_5_images_A_passive','OPHYS_5_images_B_passive']} # note: I think \"OPHYS_5_images_B_passive\" is novel, but not sure\n",
        "\n",
        "cre_line_type = ['Sst-IRES-Cre', 'Vip-IRES-Cre', 'Slc17a7-IRES2-Cre']\n",
        "\n",
        "print(f'*Ophys session types in the current dataset:*\\n\\n {ophys_session_table.session_type.unique()}',)             "
      ],
      "execution_count": 5,
      "outputs": [
        {
          "output_type": "stream",
          "text": [
            "*Ophys session types in the current dataset:*\n",
            "\n",
            " ['OPHYS_1_images_A' 'OPHYS_2_images_A_passive' 'OPHYS_3_images_A'\n",
            " 'OPHYS_4_images_B' 'OPHYS_5_images_B_passive' 'OPHYS_6_images_B'\n",
            " 'OPHYS_1_images_B' 'OPHYS_2_images_B_passive' 'OPHYS_3_images_B'\n",
            " 'OPHYS_4_images_A' 'OPHYS_6_images_A' 'OPHYS_5_images_A_passive']\n"
          ],
          "name": "stdout"
        }
      ]
    },
    {
      "cell_type": "markdown",
      "metadata": {
        "id": "KL74rEX-Ig9l"
      },
      "source": [
        "# Load two example experiments (planes) to compare familiar vs novel responses"
      ]
    },
    {
      "cell_type": "markdown",
      "metadata": {
        "id": "oQKBmMitfd6v"
      },
      "source": [
        "#### Add two columns to \"ophys_experiment_table\" to identify if individual experiments are:\n",
        "- Active or passive \n",
        "- Familiar or novel"
      ]
    },
    {
      "cell_type": "code",
      "metadata": {
        "id": "H0VLO2OKdSWm"
      },
      "source": [
        "# Active vs passive\n",
        "ind_passive = (ophys_experiment_table.session_type.str.contains(session_type['familiar_pasive'][0]) |\n",
        "               ophys_experiment_table.session_type.str.contains(session_type['novel_pasive'][0])    |\n",
        "               ophys_experiment_table.session_type.str.contains(session_type['novel_pasive'][1]))\n",
        "ind_passive[ind_passive==False] = 'active'\n",
        "ind_passive[ind_passive==True]  = 'pasive'\n",
        "ophys_experiment_table['behavior_condition'] = ind_passive\n",
        "\n",
        "# Familiar vs novel\n",
        "fam = session_type['familiar_active'] + session_type['familiar_pasive']\n",
        "\n",
        "i_fam = pd.Series([False]*ophys_experiment_table.shape[0])\n",
        "for f in fam:\n",
        "  i_fam = (i_fam | ophys_experiment_table.session_type.str.contains(f))\n",
        "i_fam[i_fam==True]  = 'familiar'\n",
        "i_fam[i_fam==False] = 'novel'  \n",
        "ophys_experiment_table['experimental_condition'] = i_fam"
      ],
      "execution_count": 6,
      "outputs": []
    },
    {
      "cell_type": "code",
      "metadata": {
        "colab": {
          "base_uri": "https://localhost:8080/"
        },
        "id": "k1ewixNutV6F",
        "outputId": "72af2be5-8d42-4a0b-df4b-5b3ccaf0e8ac"
      },
      "source": [
        "ophys_experiment_table.experimental_condition.unique()"
      ],
      "execution_count": 7,
      "outputs": [
        {
          "output_type": "execute_result",
          "data": {
            "text/plain": [
              "array(['familiar', 'novel'], dtype=object)"
            ]
          },
          "metadata": {
            "tags": []
          },
          "execution_count": 7
        }
      ]
    },
    {
      "cell_type": "markdown",
      "metadata": {
        "id": "L4WBdlDMfrd4"
      },
      "source": [
        "#### Find a container with familiar and novel sessions"
      ]
    },
    {
      "cell_type": "code",
      "metadata": {
        "id": "KMiwxPl3jeZ0"
      },
      "source": [
        "# Containers\n",
        "i_fam = ophys_experiment_table.query('cre_line == \"Vip-IRES-Cre\" and behavior_condition == \"active\" and experimental_condition == \"familiar\"')['ophys_container_id']\n",
        "i_nov = ophys_experiment_table.query('cre_line == \"Vip-IRES-Cre\" and behavior_condition == \"active\" and experimental_condition == \"novel\"')['ophys_container_id']\n",
        "\n",
        "# Which containers are in both conditions\n",
        "unic_fam = i_fam.unique()\n",
        "i_both = []\n",
        "for i,row in enumerate(unic_fam):\n",
        "  if (row == i_nov.values).any():\n",
        "    i_both.append(i)\n",
        "    \n",
        "# Choose the first container with fam & nov conditions\n",
        "id_contain = unic_fam[i_both[0]]"
      ],
      "execution_count": 8,
      "outputs": []
    },
    {
      "cell_type": "code",
      "metadata": {
        "id": "KLCe-937uM0J"
      },
      "source": [
        "# Containers-cyllllll\n",
        "i_fam = ophys_experiment_table.query('cre_line == \"Vip-IRES-Cre\" and behavior_condition == \"pasive\" and experimental_condition == \"familiar\"')['ophys_container_id']\n",
        "i_nov = ophys_experiment_table.query('cre_line == \"Vip-IRES-Cre\" and behavior_condition == \"pasive\" and experimental_condition == \"novel\"')['ophys_container_id']\n",
        "\n",
        "# Which containers are in both conditions\n",
        "unic_fam = i_fam.unique()\n",
        "i_both = []\n",
        "for i,row in enumerate(unic_fam):\n",
        "  if (row == i_nov.values).any():\n",
        "    i_both.append(i)\n",
        "    \n",
        "# Choose the first container with fam & nov conditions\n",
        "id_contain = unic_fam[i_both[0]]"
      ],
      "execution_count": 8,
      "outputs": []
    },
    {
      "cell_type": "code",
      "metadata": {
        "colab": {
          "base_uri": "https://localhost:8080/"
        },
        "id": "wSTioUstzR3o",
        "outputId": "eb790713-5d40-425a-8a0f-7f0da89850dc"
      },
      "source": [
        "id_contain"
      ],
      "execution_count": 9,
      "outputs": [
        {
          "output_type": "execute_result",
          "data": {
            "text/plain": [
              "791352433"
            ]
          },
          "metadata": {
            "tags": []
          },
          "execution_count": 9
        }
      ]
    },
    {
      "cell_type": "code",
      "metadata": {
        "colab": {
          "base_uri": "https://localhost:8080/"
        },
        "id": "-0u_AcJv1u_j",
        "outputId": "153aedfa-5ee4-4494-d616-0e8d6d6b795a"
      },
      "source": [
        "print(i_both)"
      ],
      "execution_count": 10,
      "outputs": [
        {
          "output_type": "stream",
          "text": [
            "[0, 1, 8, 9, 11, 12, 13, 14, 15, 16, 17, 18, 19, 20, 21, 22, 23, 25, 26, 28, 30, 31, 32, 33, 34, 35, 36, 37, 38, 39, 40, 41, 42, 50, 51, 52, 53, 54, 55, 56]\n"
          ],
          "name": "stdout"
        }
      ]
    },
    {
      "cell_type": "markdown",
      "metadata": {
        "id": "Mo5mro-nqe-0"
      },
      "source": [
        "#### Select the experiments of a specific container"
      ]
    },
    {
      "cell_type": "code",
      "metadata": {
        "id": "mQZP4FyIqH_V"
      },
      "source": [
        " exper_famil = ophys_experiment_table.query('cre_line == \"Vip-IRES-Cre\" and behavior_condition == \"pasive\" and experimental_condition == \"familiar\" and ophys_container_id == @id_contain')\n",
        " exper_novel = ophys_experiment_table.query('cre_line == \"Vip-IRES-Cre\" and behavior_condition == \"pasive\" and experimental_condition == \"novel\" and ophys_container_id == @id_contain')\n",
        "\n",
        " exper_famil.head()\n",
        " exper_novel.head()"
      ],
      "execution_count": null,
      "outputs": []
    },
    {
      "cell_type": "markdown",
      "metadata": {
        "id": "juEm7D-MsPZk"
      },
      "source": [
        "# Load one example session\n",
        "We are going to select two sessions with the same plane, but recorded in differnt sessions"
      ]
    },
    {
      "cell_type": "code",
      "metadata": {
        "id": "azIOdMc-sFXe",
        "colab": {
          "base_uri": "https://localhost:8080/"
        },
        "outputId": "bfe02037-7cc4-4b5b-96ec-a761d2c15f32"
      },
      "source": [
        "# Ophys experimental ID (choose the first experiment of familiar and novel conditions)\n",
        "ophys_experiment_id_fam = exper_famil.index[0]\n",
        "ophys_experiment_id_nov = exper_novel.index[0]\n",
        "\n",
        "# Download particular ophys experiments\n",
        "fam_experiment = cache.get_behavior_ophys_experiment(ophys_experiment_id_fam)\n",
        "nov_experiment = cache.get_behavior_ophys_experiment(ophys_experiment_id_nov)"
      ],
      "execution_count": 49,
      "outputs": [
        {
          "output_type": "stream",
          "text": [
            "behavior_ophys_experiment_798404219.nwb: 100%|██████████| 380M/380M [00:14<00:00, 25.5MMB/s]\n",
            "behavior_ophys_experiment_796108483.nwb: 100%|██████████| 389M/389M [00:14<00:00, 27.6MMB/s]\n"
          ],
          "name": "stderr"
        }
      ]
    },
    {
      "cell_type": "markdown",
      "metadata": {
        "id": "Fyk8aL8q8GBr"
      },
      "source": [
        "### Structure the data "
      ]
    },
    {
      "cell_type": "code",
      "metadata": {
        "id": "JF5XGXztxVrg"
      },
      "source": [
        "metadata_keys = [\n",
        "    'ophys_experiment_id',\n",
        "    'ophys_session_id',\n",
        "    'targeted_structure',\n",
        "    'imaging_depth',\n",
        "    'equipment_name',\n",
        "    'cre_line',\n",
        "    'mouse_id',\n",
        "    'sex',\n",
        "]"
      ],
      "execution_count": 50,
      "outputs": []
    },
    {
      "cell_type": "code",
      "metadata": {
        "id": "1A4Ip3_FxEHc"
      },
      "source": [
        "fam_experiment_neural_data = ophys.build_tidy_cell_df(fam_experiment)\n",
        "nov_experiment_neural_data = ophys.build_tidy_cell_df(nov_experiment)\n",
        "\n",
        "for metadata_key in metadata_keys:\n",
        "  fam_experiment_neural_data[metadata_key] = fam_experiment.metadata[metadata_key]\n",
        "  nov_experiment_neural_data[metadata_key] = nov_experiment.metadata[metadata_key]\n",
        "\n",
        "fam_experiment_neural_data.head()\n",
        "# nov_experiment_neural_data.head()"
      ],
      "execution_count": null,
      "outputs": []
    },
    {
      "cell_type": "markdown",
      "metadata": {
        "id": "6VgBRXJZ0jax"
      },
      "source": [
        "# Examine Cell IDs\n",
        "We can get the unique Cell IDs in our dataset as follows:"
      ]
    },
    {
      "cell_type": "code",
      "metadata": {
        "colab": {
          "base_uri": "https://localhost:8080/"
        },
        "id": "CNXyn46xuqsw",
        "outputId": "8863939e-f6bc-4f7f-b261-09f9433672c3"
      },
      "source": [
        "cell_ids = fam_experiment_neural_data['cell_specimen_id'].unique()\n",
        "print('there are {} unique cells'.format(len(cell_ids)))\n",
        "print('cell ids are: {}'.format(cell_ids))\n",
        "\n",
        "# Choose only one neuron ID\n",
        "cell_id = cell_ids[0]"
      ],
      "execution_count": 52,
      "outputs": [
        {
          "output_type": "stream",
          "text": [
            "there are 39 unique cells\n",
            "cell ids are: [1086492088, 1086493365, 1086491165, 1086491118, 1086491059, ..., 1086491597, 1086492499, 1086492406, 1086491530, 1086490719]\n",
            "Length: 39\n",
            "Categories (39, int64): [1086492088, 1086493365, 1086491165, 1086491118, ..., 1086492499, 1086492406,\n",
            "                         1086491530, 1086490719]\n"
          ],
          "name": "stdout"
        }
      ]
    },
    {
      "cell_type": "code",
      "metadata": {
        "colab": {
          "base_uri": "https://localhost:8080/"
        },
        "id": "S8-Kw938vRVm",
        "outputId": "955b7f82-2418-4684-9159-bbf2101cc572"
      },
      "source": [
        "#cyllllll\n",
        "cell_ids_fam = fam_experiment_neural_data['cell_specimen_id'].unique()\n",
        "print('there are {} unique cells for fam'.format(len(cell_ids)))\n",
        "print('cell ids are: {}'.format(cell_ids))\n",
        "\n",
        "cell_ids_nov = nov_experiment_neural_data['cell_specimen_id'].unique()\n",
        "print('there are {} unique cells for nov'.format(len(cell_ids)))\n",
        "print('cell ids are: {}'.format(cell_ids))\n",
        "\n",
        "# Choose only one neuron ID\n",
        "cell_id_fam = cell_ids_fam[0:10]\n",
        "cell_id_nov = cell_ids_nov[0:10]"
      ],
      "execution_count": 54,
      "outputs": [
        {
          "output_type": "stream",
          "text": [
            "there are 39 unique cells for fam\n",
            "cell ids are: [1086492088, 1086493365, 1086491165, 1086491118, 1086491059, ..., 1086491597, 1086492499, 1086492406, 1086491530, 1086490719]\n",
            "Length: 39\n",
            "Categories (39, int64): [1086492088, 1086493365, 1086491165, 1086491118, ..., 1086492499, 1086492406,\n",
            "                         1086491530, 1086490719]\n",
            "there are 39 unique cells for nov\n",
            "cell ids are: [1086492088, 1086493365, 1086491165, 1086491118, 1086491059, ..., 1086491597, 1086492499, 1086492406, 1086491530, 1086490719]\n",
            "Length: 39\n",
            "Categories (39, int64): [1086492088, 1086493365, 1086491165, 1086491118, ..., 1086492499, 1086492406,\n",
            "                         1086491530, 1086490719]\n"
          ],
          "name": "stdout"
        }
      ]
    },
    {
      "cell_type": "code",
      "metadata": {
        "colab": {
          "base_uri": "https://localhost:8080/"
        },
        "id": "ihIhVHhIvqpQ",
        "outputId": "20aec5bb-19f8-4652-e702-7fc94073f23e"
      },
      "source": [
        "#cylllll\n",
        "#cell_id_fam\n",
        "cell_id_nov"
      ],
      "execution_count": 56,
      "outputs": [
        {
          "output_type": "execute_result",
          "data": {
            "text/plain": [
              "[1086491347, 1086491308, 1086491118, 1086491195, 1086491165, 1086491083, 1086490897, 1086491006, 1086490644, 1086492307]\n",
              "Categories (44, int64): [1086491347, 1086491308, 1086491118, 1086491195, ..., 1086492406, 1086491530,\n",
              "                         1086492221, 1086490480]"
            ]
          },
          "metadata": {
            "tags": []
          },
          "execution_count": 56
        }
      ]
    },
    {
      "cell_type": "markdown",
      "metadata": {
        "id": "JtmfVhMW0uxk"
      },
      "source": [
        "If we wanted to get the timeseries for one cell, we could query the `neural_data` dataframe. "
      ]
    },
    {
      "cell_type": "code",
      "metadata": {
        "id": "rlmGxf9T0uxk"
      },
      "source": [
        "fam_single_cell_timeseries = fam_experiment_neural_data.query('cell_specimen_id == @cell_id')\n",
        "nov_single_cell_timeseries = nov_experiment_neural_data.query('cell_specimen_id == @cell_id')\n",
        "fam_single_cell_timeseries.head(5)\n",
        "# nov_single_cell_timeseries.head(5)"
      ],
      "execution_count": null,
      "outputs": []
    },
    {
      "cell_type": "code",
      "metadata": {
        "id": "V4w88B1KwAvD"
      },
      "source": [
        "#cyllll\n",
        "for cell_id in cell_id_fam:\n",
        "    fam_single_cell_timeseries = fam_experiment_neural_data.query('cell_specimen_id == @cell_id')\n",
        "    nov_single_cell_timeseries = nov_experiment_neural_data.query('cell_specimen_id == @cell_id')\n"
      ],
      "execution_count": 63,
      "outputs": []
    },
    {
      "cell_type": "code",
      "metadata": {
        "id": "CRSrFX-WxYIg"
      },
      "source": [
        ""
      ],
      "execution_count": null,
      "outputs": []
    },
    {
      "cell_type": "markdown",
      "metadata": {
        "id": "1KZLPFoy3AYL"
      },
      "source": [
        "Each cell has three types of traces:\n",
        "- `dff` column is the Calcium fluorescence signal, normalized to background fluorescence.\n",
        "- `events` column is deconvolved events from dff trace, which approximates neural firing rate and removes the slow decay of the Calcium signal (for more details, you can read EVENT DETECTION section in [Visual Behavior whitepaper](https://portal.brain-map.org/explore/circuits/visual-behavior-2p)).\n",
        "- `filtered_events` column is events smoothed with a half-gaussian kernel. "
      ]
    },
    {
      "cell_type": "markdown",
      "metadata": {
        "id": "aG8RNtU03AYL"
      },
      "source": [
        "We can then plot DeltaF/F for this cell for the full experiment as follows:"
      ]
    },
    {
      "cell_type": "code",
      "metadata": {
        "colab": {
          "base_uri": "https://localhost:8080/",
          "height": 334
        },
        "id": "Nwz0NFUB3AYL",
        "outputId": "1dd5c652-f254-45d9-9b22-2051a37e9347"
      },
      "source": [
        "fig, ax = plt.subplots(figsize=(15,5))\n",
        "\n",
        "fam_single_cell_timeseries.plot(\n",
        "    x = 'timestamps',\n",
        "    y = ['dff'],\n",
        "    ax = ax,\n",
        "    color='blue',\n",
        "    alpha = 0.8\n",
        ")\n",
        "\n",
        "nov_single_cell_timeseries.plot(\n",
        "    x = 'timestamps',\n",
        "    y = ['dff'],\n",
        "    ax = ax,\n",
        "    color='green',\n",
        "    alpha = 0.5\n",
        ")\n",
        "\n",
        "ax.axes.axes.set_xlim(500,2000);"
      ],
      "execution_count": 17,
      "outputs": [
        {
          "output_type": "display_data",
          "data": {
            "image/png": "[encoded data removed]",
            "text/plain": [
              "<Figure size 1080x360 with 1 Axes>"
            ]
          },
          "metadata": {
            "tags": [],
            "needs_background": "light"
          }
        }
      ]
    },
    {
      "cell_type": "markdown",
      "metadata": {
        "id": "PijvpUYp3V0G"
      },
      "source": [
        "# Load stimulus data into memory"
      ]
    },
    {
      "cell_type": "code",
      "metadata": {
        "colab": {
          "base_uri": "https://localhost:8080/",
          "height": 410
        },
        "id": "G1epizaA3V0G",
        "outputId": "72fb1f0c-ce88-4899-bc64-90945758ace3"
      },
      "source": [
        "fam_stimulus_table = fam_experiment.stimulus_presentations\n",
        "nov_stimulus_table = nov_experiment.stimulus_presentations\n",
        "\n",
        "fam_stimulus_table.head(10)\n",
        "# nov_stimulus_table.head(10)"
      ],
      "execution_count": 18,
      "outputs": [
        {
          "output_type": "execute_result",
          "data": {
            "text/html": [
              "<div>\n",
              "<style scoped>\n",
              "    .dataframe tbody tr th:only-of-type {\n",
              "        vertical-align: middle;\n",
              "    }\n",
              "\n",
              "    .dataframe tbody tr th {\n",
              "        vertical-align: top;\n",
              "    }\n",
              "\n",
              "    .dataframe thead th {\n",
              "        text-align: right;\n",
              "    }\n",
              "</style>\n",
              "<table border=\"1\" class=\"dataframe\">\n",
              "  <thead>\n",
              "    <tr style=\"text-align: right;\">\n",
              "      <th></th>\n",
              "      <th>duration</th>\n",
              "      <th>end_frame</th>\n",
              "      <th>image_index</th>\n",
              "      <th>image_name</th>\n",
              "      <th>image_set</th>\n",
              "      <th>index</th>\n",
              "      <th>omitted</th>\n",
              "      <th>start_frame</th>\n",
              "      <th>start_time</th>\n",
              "      <th>stop_time</th>\n",
              "      <th>is_change</th>\n",
              "    </tr>\n",
              "    <tr>\n",
              "      <th>stimulus_presentations_id</th>\n",
              "      <th></th>\n",
              "      <th></th>\n",
              "      <th></th>\n",
              "      <th></th>\n",
              "      <th></th>\n",
              "      <th></th>\n",
              "      <th></th>\n",
              "      <th></th>\n",
              "      <th></th>\n",
              "      <th></th>\n",
              "      <th></th>\n",
              "    </tr>\n",
              "  </thead>\n",
              "  <tbody>\n",
              "    <tr>\n",
              "      <th>0</th>\n",
              "      <td>0.25024</td>\n",
              "      <td>18000.0</td>\n",
              "      <td>0</td>\n",
              "      <td>im065</td>\n",
              "      <td>Natural_Images_Lum_Matched_set_training_2017.0...</td>\n",
              "      <td>0</td>\n",
              "      <td>False</td>\n",
              "      <td>17985</td>\n",
              "      <td>306.84438</td>\n",
              "      <td>307.09462</td>\n",
              "      <td>False</td>\n",
              "    </tr>\n",
              "    <tr>\n",
              "      <th>1</th>\n",
              "      <td>0.25021</td>\n",
              "      <td>18045.0</td>\n",
              "      <td>0</td>\n",
              "      <td>im065</td>\n",
              "      <td>Natural_Images_Lum_Matched_set_training_2017.0...</td>\n",
              "      <td>1</td>\n",
              "      <td>False</td>\n",
              "      <td>18030</td>\n",
              "      <td>307.59503</td>\n",
              "      <td>307.84524</td>\n",
              "      <td>False</td>\n",
              "    </tr>\n",
              "    <tr>\n",
              "      <th>2</th>\n",
              "      <td>0.25023</td>\n",
              "      <td>18090.0</td>\n",
              "      <td>0</td>\n",
              "      <td>im065</td>\n",
              "      <td>Natural_Images_Lum_Matched_set_training_2017.0...</td>\n",
              "      <td>2</td>\n",
              "      <td>False</td>\n",
              "      <td>18075</td>\n",
              "      <td>308.34564</td>\n",
              "      <td>308.59587</td>\n",
              "      <td>False</td>\n",
              "    </tr>\n",
              "    <tr>\n",
              "      <th>3</th>\n",
              "      <td>0.25028</td>\n",
              "      <td>18135.0</td>\n",
              "      <td>0</td>\n",
              "      <td>im065</td>\n",
              "      <td>Natural_Images_Lum_Matched_set_training_2017.0...</td>\n",
              "      <td>3</td>\n",
              "      <td>False</td>\n",
              "      <td>18120</td>\n",
              "      <td>309.09622</td>\n",
              "      <td>309.34650</td>\n",
              "      <td>False</td>\n",
              "    </tr>\n",
              "    <tr>\n",
              "      <th>4</th>\n",
              "      <td>0.25018</td>\n",
              "      <td>18180.0</td>\n",
              "      <td>0</td>\n",
              "      <td>im065</td>\n",
              "      <td>Natural_Images_Lum_Matched_set_training_2017.0...</td>\n",
              "      <td>4</td>\n",
              "      <td>False</td>\n",
              "      <td>18165</td>\n",
              "      <td>309.84689</td>\n",
              "      <td>310.09707</td>\n",
              "      <td>False</td>\n",
              "    </tr>\n",
              "    <tr>\n",
              "      <th>5</th>\n",
              "      <td>0.25018</td>\n",
              "      <td>18225.0</td>\n",
              "      <td>6</td>\n",
              "      <td>im085</td>\n",
              "      <td>Natural_Images_Lum_Matched_set_training_2017.0...</td>\n",
              "      <td>5</td>\n",
              "      <td>False</td>\n",
              "      <td>18210</td>\n",
              "      <td>310.59751</td>\n",
              "      <td>310.84769</td>\n",
              "      <td>True</td>\n",
              "    </tr>\n",
              "    <tr>\n",
              "      <th>6</th>\n",
              "      <td>0.25026</td>\n",
              "      <td>18270.0</td>\n",
              "      <td>6</td>\n",
              "      <td>im085</td>\n",
              "      <td>Natural_Images_Lum_Matched_set_training_2017.0...</td>\n",
              "      <td>6</td>\n",
              "      <td>False</td>\n",
              "      <td>18255</td>\n",
              "      <td>311.34811</td>\n",
              "      <td>311.59837</td>\n",
              "      <td>False</td>\n",
              "    </tr>\n",
              "    <tr>\n",
              "      <th>7</th>\n",
              "      <td>0.25021</td>\n",
              "      <td>18315.0</td>\n",
              "      <td>6</td>\n",
              "      <td>im085</td>\n",
              "      <td>Natural_Images_Lum_Matched_set_training_2017.0...</td>\n",
              "      <td>7</td>\n",
              "      <td>False</td>\n",
              "      <td>18300</td>\n",
              "      <td>312.09867</td>\n",
              "      <td>312.34888</td>\n",
              "      <td>False</td>\n",
              "    </tr>\n",
              "    <tr>\n",
              "      <th>8</th>\n",
              "      <td>0.25023</td>\n",
              "      <td>18360.0</td>\n",
              "      <td>6</td>\n",
              "      <td>im085</td>\n",
              "      <td>Natural_Images_Lum_Matched_set_training_2017.0...</td>\n",
              "      <td>8</td>\n",
              "      <td>False</td>\n",
              "      <td>18345</td>\n",
              "      <td>312.84932</td>\n",
              "      <td>313.09955</td>\n",
              "      <td>False</td>\n",
              "    </tr>\n",
              "    <tr>\n",
              "      <th>9</th>\n",
              "      <td>0.25023</td>\n",
              "      <td>18405.0</td>\n",
              "      <td>6</td>\n",
              "      <td>im085</td>\n",
              "      <td>Natural_Images_Lum_Matched_set_training_2017.0...</td>\n",
              "      <td>9</td>\n",
              "      <td>False</td>\n",
              "      <td>18390</td>\n",
              "      <td>313.59993</td>\n",
              "      <td>313.85016</td>\n",
              "      <td>False</td>\n",
              "    </tr>\n",
              "  </tbody>\n",
              "</table>\n",
              "</div>"
            ],
            "text/plain": [
              "                           duration  end_frame  image_index image_name  \\\n",
              "stimulus_presentations_id                                                \n",
              "0                           0.25024    18000.0            0      im065   \n",
              "1                           0.25021    18045.0            0      im065   \n",
              "2                           0.25023    18090.0            0      im065   \n",
              "3                           0.25028    18135.0            0      im065   \n",
              "4                           0.25018    18180.0            0      im065   \n",
              "5                           0.25018    18225.0            6      im085   \n",
              "6                           0.25026    18270.0            6      im085   \n",
              "7                           0.25021    18315.0            6      im085   \n",
              "8                           0.25023    18360.0            6      im085   \n",
              "9                           0.25023    18405.0            6      im085   \n",
              "\n",
              "                                                                   image_set  \\\n",
              "stimulus_presentations_id                                                      \n",
              "0                          Natural_Images_Lum_Matched_set_training_2017.0...   \n",
              "1                          Natural_Images_Lum_Matched_set_training_2017.0...   \n",
              "2                          Natural_Images_Lum_Matched_set_training_2017.0...   \n",
              "3                          Natural_Images_Lum_Matched_set_training_2017.0...   \n",
              "4                          Natural_Images_Lum_Matched_set_training_2017.0...   \n",
              "5                          Natural_Images_Lum_Matched_set_training_2017.0...   \n",
              "6                          Natural_Images_Lum_Matched_set_training_2017.0...   \n",
              "7                          Natural_Images_Lum_Matched_set_training_2017.0...   \n",
              "8                          Natural_Images_Lum_Matched_set_training_2017.0...   \n",
              "9                          Natural_Images_Lum_Matched_set_training_2017.0...   \n",
              "\n",
              "                           index  omitted  start_frame  start_time  stop_time  \\\n",
              "stimulus_presentations_id                                                       \n",
              "0                              0    False        17985   306.84438  307.09462   \n",
              "1                              1    False        18030   307.59503  307.84524   \n",
              "2                              2    False        18075   308.34564  308.59587   \n",
              "3                              3    False        18120   309.09622  309.34650   \n",
              "4                              4    False        18165   309.84689  310.09707   \n",
              "5                              5    False        18210   310.59751  310.84769   \n",
              "6                              6    False        18255   311.34811  311.59837   \n",
              "7                              7    False        18300   312.09867  312.34888   \n",
              "8                              8    False        18345   312.84932  313.09955   \n",
              "9                              9    False        18390   313.59993  313.85016   \n",
              "\n",
              "                           is_change  \n",
              "stimulus_presentations_id             \n",
              "0                              False  \n",
              "1                              False  \n",
              "2                              False  \n",
              "3                              False  \n",
              "4                              False  \n",
              "5                               True  \n",
              "6                              False  \n",
              "7                              False  \n",
              "8                              False  \n",
              "9                              False  "
            ]
          },
          "metadata": {
            "tags": []
          },
          "execution_count": 18
        }
      ]
    },
    {
      "cell_type": "markdown",
      "metadata": {
        "id": "KpjnSFPO4aWM"
      },
      "source": [
        "# Create an event triggered response dataframe relative to omissions\n",
        "If we want to see how a given cell responds when regularly flashed stimuli are omitted, we can calculate the response around each of the stimulus omissions. The `mindscope_utilities` package has a convenience function to do this. We give the function:\n",
        "* a dataframe of interest (containing activity from one cell)\n",
        "* the t and y values of interest\n",
        "* the event times\n",
        "* how much time before and after each event we are interested in\n",
        "* the desired sampling rate of the output - this is the rate onto which the response will be interpolated\n",
        "\n",
        "The function will return a new dataframe with the response for the given cell, aligned to each of the events."
      ]
    },
    {
      "cell_type": "code",
      "metadata": {
        "id": "pQrjmJba4aWN"
      },
      "source": [
        "etr_fam = mindscope_utilities.event_triggered_response(\n",
        "    data = fam_experiment_neural_data.query('cell_specimen_id == @cell_id'),\n",
        "    t = 'timestamps',\n",
        "    y = 'dff',\n",
        "    event_times = fam_stimulus_table.query('is_change == True')['start_time'],\n",
        "    t_before=0.05,\n",
        "    t_after=0.4,\n",
        "    output_sampling_rate = 50,\n",
        ")\n",
        "etr_nov = mindscope_utilities.event_triggered_response(\n",
        "    data = nov_experiment_neural_data.query('cell_specimen_id == @cell_id'),\n",
        "    t = 'timestamps',\n",
        "    y = 'dff',\n",
        "    event_times = nov_stimulus_table.query('is_change == True')['start_time'],\n",
        "    t_before=3,\n",
        "    t_after=3,\n",
        "    output_sampling_rate = 50,\n",
        ")"
      ],
      "execution_count": 20,
      "outputs": []
    },
    {
      "cell_type": "markdown",
      "metadata": {
        "id": "QOjrHnp_5Gce"
      },
      "source": [
        "We can see that the output has colums for\n",
        "* `time` - this is our new timebase relative to the events. In this case, it ranges from -3 to 3\n",
        "* `dff` - this is the deltaF/F value surrounding each event, interpolated onto the new timebase. If, when calling the `event_triggered_response` function we had passed `y = 'events'`, this column would be events instead of dff.\n",
        "* `event_number` - this is an integer representing the count of each event. In this example, there were 185 omissions, so they are numbered from 0 to 184\n",
        "* `event_time` - this is the time of each event\n",
        "\n"
      ]
    },
    {
      "cell_type": "markdown",
      "metadata": {
        "id": "V54c1B7_5Jdu"
      },
      "source": [
        "## Plot an event triggered response"
      ]
    },
    {
      "cell_type": "markdown",
      "metadata": {
        "id": "w6wMQysd5Jdu"
      },
      "source": [
        "The output format of the `event_triggered_response` function is designed to plug directly into Seaborn's `lineplot` plotting function. We can then view the mean response to omitted stimuli with 95% confidence intervals very easily:"
      ]
    },
    {
      "cell_type": "code",
      "metadata": {
        "colab": {
          "base_uri": "https://localhost:8080/",
          "height": 296
        },
        "id": "gvmbRdAC5Jdu",
        "outputId": "593added-9bcb-485c-b2bf-eaa632a09c8b"
      },
      "source": [
        "sns.lineplot(\n",
        "    data=etr_fam,\n",
        "    x='time',\n",
        "    y='dff',\n",
        "    n_boot=200,\n",
        "    color='blue',\n",
        "    label='familiar'\n",
        ")\n",
        "sns.lineplot(\n",
        "    data=etr_nov,\n",
        "    x='time',\n",
        "    y='dff',\n",
        "    n_boot=200,\n",
        "    color='green',\n",
        "    label='novel'\n",
        ")"
      ],
      "execution_count": 21,
      "outputs": [
        {
          "output_type": "execute_result",
          "data": {
            "text/plain": [
              "<matplotlib.axes._subplots.AxesSubplot at 0x7f4e95673e50>"
            ]
          },
          "metadata": {
            "tags": []
          },
          "execution_count": 21
        },
        {
          "output_type": "display_data",
          "data": {
            "image/png": "[encoded data removed]",
            "text/plain": [
              "<Figure size 432x288 with 1 Axes>"
            ]
          },
          "metadata": {
            "tags": [],
            "needs_background": "light"
          }
        }
      ]
    }
  ]
}