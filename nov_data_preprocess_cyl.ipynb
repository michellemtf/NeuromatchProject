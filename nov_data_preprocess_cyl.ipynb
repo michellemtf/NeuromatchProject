{
  "nbformat": 4,
  "nbformat_minor": 0,
  "metadata": {
    "colab": {
      "name": "Untitled0.ipynb",
      "provenance": [],
      "collapsed_sections": [],
      "authorship_tag": "ABX9TyPj6TqgLXkEHO+HeF7yrPeP",
      "include_colab_link": true
    },
    "kernelspec": {
      "name": "python3",
      "display_name": "Python 3"
    },
    "language_info": {
      "name": "python"
    }
  },
  "cells": [
    {
      "cell_type": "markdown",
      "metadata": {
        "id": "view-in-github",
        "colab_type": "text"
      },
      "source": [
        "<a href=\"https://colab.research.google.com/github/michellemtf/NeuromatchProject/blob/main/nov_data_preprocess_cyl.ipynb\" target=\"_parent\"><img src=\"https://colab.research.google.com/assets/colab-badge.svg\" alt=\"Open In Colab\"/></a>"
      ]
    },
    {
      "cell_type": "markdown",
      "metadata": {
        "id": "aT1SMSLJjkAN"
      },
      "source": [
        "## **Set up environment and import packages**"
      ]
    },
    {
      "cell_type": "markdown",
      "metadata": {
        "id": "NXdwP8aLjwfA"
      },
      "source": [
        "#### Install necessary packages"
      ]
    },
    {
      "cell_type": "code",
      "metadata": {
        "id": "6-N9wlu3jAZY"
      },
      "source": [
        "!python -m pip install --upgrade pip\n",
        "!pip install mindscope_utilities --upgrade"
      ],
      "execution_count": null,
      "outputs": []
    },
    {
      "cell_type": "markdown",
      "metadata": {
        "id": "0g9yyJ5njrqI"
      },
      "source": [
        "Next we will import packages we need later in the notebook"
      ]
    },
    {
      "cell_type": "code",
      "metadata": {
        "id": "zJIAEXJUjbiM"
      },
      "source": [
        "import os\n",
        "import numpy as np\n",
        "import pandas as pd\n",
        "from tqdm import tqdm\n",
        "import seaborn as sns\n",
        "import matplotlib.pyplot as plt\n",
        "\n",
        "import mindscope_utilities\n",
        "import mindscope_utilities.visual_behavior_ophys as ophys\n",
        "\n",
        "from allensdk.brain_observatory.behavior.behavior_project_cache import VisualBehaviorOphysProjectCache\n",
        "\n",
        "pd.set_option('display.max_columns', 500)"
      ],
      "execution_count": 2,
      "outputs": []
    },
    {
      "cell_type": "markdown",
      "metadata": {
        "id": "J5FEwEXQj5sc"
      },
      "source": [
        "# **# Load the session and experiment summary tables**"
      ]
    },
    {
      "cell_type": "code",
      "metadata": {
        "id": "L_ueVdBjkOZT"
      },
      "source": [
        "data_storage_directory = \"/temp\" # Note: this path must exist on your local drive\n",
        "cache = VisualBehaviorOphysProjectCache.from_s3_cache(cache_dir=data_storage_directory)"
      ],
      "execution_count": 3,
      "outputs": []
    },
    {
      "cell_type": "markdown",
      "metadata": {
        "id": "e1GELquGkTuq"
      },
      "source": [
        "Load summary tables"
      ]
    },
    {
      "cell_type": "code",
      "metadata": {
        "id": "_GAKb0ZJkX1Q"
      },
      "source": [
        "behavior_session_table = cache.get_behavior_session_table()\n",
        "ophys_session_table    = cache.get_ophys_session_table()\n",
        "ophys_experiment_table = cache.get_ophys_experiment_table()\n",
        "#ophys_experiment_table.head()\n",
        "#ophys_experiment_table['mouse_id']"
      ],
      "execution_count": 4,
      "outputs": []
    },
    {
      "cell_type": "code",
      "metadata": {
        "colab": {
          "base_uri": "https://localhost:8080/"
        },
        "id": "6RvtCCqqkjc0",
        "outputId": "61041772-2d3f-44b9-8835-b90726240d57"
      },
      "source": [
        "# Dictionary with session types\n",
        "session_type = {'familiar_active': ['OPHYS_0', 'OPHYS_1', 'OPHYS_2', 'OPHYS_3'],\n",
        "                'novel_active':    ['OPHYS_4', 'OPHYS_5', 'OPHYS_6'],\n",
        "                'familiar_pasive': ['OPHYS_2_images_A_passive'],\n",
        "                'novel_pasive':    ['OPHYS_5_images_A_passive','OPHYS_5_images_B_passive']} # note: I think \"OPHYS_5_images_B_passive\" is novel, but not sure\n",
        "\n",
        "cre_line_type = ['Sst-IRES-Cre', 'Vip-IRES-Cre', 'Slc17a7-IRES2-Cre']\n",
        "\n",
        "print(f'*Ophys session types in the current dataset:*\\n\\n {ophys_session_table.session_type.unique()}',)             "
      ],
      "execution_count": 5,
      "outputs": [
        {
          "output_type": "stream",
          "text": [
            "*Ophys session types in the current dataset:*\n",
            "\n",
            " ['OPHYS_1_images_A' 'OPHYS_2_images_A_passive' 'OPHYS_3_images_A'\n",
            " 'OPHYS_4_images_B' 'OPHYS_5_images_B_passive' 'OPHYS_6_images_B'\n",
            " 'OPHYS_1_images_B' 'OPHYS_2_images_B_passive' 'OPHYS_3_images_B'\n",
            " 'OPHYS_4_images_A' 'OPHYS_6_images_A' 'OPHYS_5_images_A_passive']\n"
          ],
          "name": "stdout"
        }
      ]
    },
    {
      "cell_type": "code",
      "metadata": {
        "id": "puJO4otckt8H"
      },
      "source": [
        "#cyllll label active and pasive\n",
        "# Active vs passive\n",
        "ind_passive = (ophys_experiment_table.session_type.str.contains(session_type['familiar_pasive'][0]) |\n",
        "               ophys_experiment_table.session_type.str.contains(session_type['novel_pasive'][0])    |\n",
        "               ophys_experiment_table.session_type.str.contains(session_type['novel_pasive'][1])) # trat \"OPHYS_5_images_B_passive\" as passive\n",
        "#ind_passive = (ophys_experiment_table.session_type.str.contains(session_type['familiar_pasive'][0]) |\n",
        "#               ophys_experiment_table.session_type.str.contains(session_type['novel_pasive'][0])) # trat \"OPHYS_5_images_B_passive\" as novel\n",
        "ind_passive[ind_passive==False] = 'active'\n",
        "ind_passive[ind_passive==True]  = 'pasive' #only 'OPHYS_2_images_A_passive' and 'OPHYS_5_images_A_passive' will be labeled as 'pasive'\n",
        "ophys_experiment_table['behavior_condition'] = ind_passive"
      ],
      "execution_count": 6,
      "outputs": []
    },
    {
      "cell_type": "code",
      "metadata": {
        "colab": {
          "base_uri": "https://localhost:8080/"
        },
        "id": "7r8IYzyFqse3",
        "outputId": "348d55bd-2c13-4fc3-ec05-1467959f0f26"
      },
      "source": [
        "print(np.size(ind_passive))\n",
        "print(ind_passive.unique())\n",
        "print(np.sum(ind_passive == 'pasive'))\n",
        "print(np.sum(ind_passive == 'active'))"
      ],
      "execution_count": 7,
      "outputs": [
        {
          "output_type": "stream",
          "text": [
            "1165\n",
            "['active' 'pasive']\n",
            "306\n",
            "859\n"
          ],
          "name": "stdout"
        }
      ]
    },
    {
      "cell_type": "code",
      "metadata": {
        "id": "2slf2EFflQk3"
      },
      "source": [
        "# Familiar vs novel\n",
        "fam = session_type['familiar_pasive'] + session_type['novel_pasive'] #select the passive session\n",
        "\n",
        "i_fam = pd.Series([False]*ophys_experiment_table.shape[0]) #shape, help find the dimensions of the array\n",
        "for f in fam:\n",
        "  i_fam = (i_fam | ophys_experiment_table.session_type.str.contains(f))\n",
        "i_fam[i_fam==True]  = 'familiar'\n",
        "i_fam[i_fam==False] = 'novel'  \n",
        "ophys_experiment_table['experimental_condition'] = i_fam"
      ],
      "execution_count": 8,
      "outputs": []
    },
    {
      "cell_type": "code",
      "metadata": {
        "colab": {
          "base_uri": "https://localhost:8080/"
        },
        "id": "HBx72U0OqJ40",
        "outputId": "e43c4622-4859-42c3-8d17-7a820ea8b192"
      },
      "source": [
        "#check the labels and condition numbers\n",
        "print(ophys_experiment_table.experimental_condition.unique())\n",
        "print(np.sum(ophys_experiment_table.experimental_condition == 'familiar'))\n",
        "print(np.sum(ophys_experiment_table.experimental_condition == 'novel'))"
      ],
      "execution_count": 9,
      "outputs": [
        {
          "output_type": "stream",
          "text": [
            "['novel' 'familiar']\n",
            "160\n",
            "1005\n"
          ],
          "name": "stdout"
        }
      ]
    },
    {
      "cell_type": "markdown",
      "metadata": {
        "id": "s3UtPi2WtM4L"
      },
      "source": [
        "Find a container with familiar and novel sessions"
      ]
    },
    {
      "cell_type": "code",
      "metadata": {
        "id": "ipA597YUtOJH"
      },
      "source": [
        "# Containers-cyllllll -use the excitatory neuron here\n",
        "i_fam = ophys_experiment_table.query('cre_line == \"Slc17a7-IRES2-Cre\" and behavior_condition == \"pasive\" and experimental_condition == \"familiar\"')['ophys_container_id']\n",
        "i_nov = ophys_experiment_table.query('cre_line == \"Slc17a7-IRES2-Cre\" and behavior_condition == \"pasive\" and experimental_condition == \"novel\"')['ophys_container_id']\n",
        "\n",
        "# Which containers are in both conditions\n",
        "unic_fam = i_fam.unique()\n",
        "i_both = []\n",
        "for i,row in enumerate(unic_fam):\n",
        "  if (row == i_nov.values).any():\n",
        "    i_both.append(i)\n",
        "    \n",
        "# Choose the first container with fam & nov conditions\n",
        "id_contain = unic_fam[i_both[0]]"
      ],
      "execution_count": 10,
      "outputs": []
    },
    {
      "cell_type": "code",
      "metadata": {
        "colab": {
          "base_uri": "https://localhost:8080/"
        },
        "id": "SUzdPDd8vM1b",
        "outputId": "5cb836f4-b856-444e-fd74-2012ea308356"
      },
      "source": [
        "print(np.size(i_both))\n",
        "print(id_contain)"
      ],
      "execution_count": 11,
      "outputs": [
        {
          "output_type": "stream",
          "text": [
            "56\n",
            "876693090\n"
          ],
          "name": "stdout"
        }
      ]
    },
    {
      "cell_type": "markdown",
      "metadata": {
        "id": "nyzlfI-qviYq"
      },
      "source": [
        "Select the experiments of a specific container"
      ]
    },
    {
      "cell_type": "code",
      "metadata": {
        "id": "pRrdSTOsvjUU"
      },
      "source": [
        "#cyllll\n",
        "exper_famil = ophys_experiment_table.query('cre_line == \"Slc17a7-IRES2-Cre\" and behavior_condition == \"pasive\" and experimental_condition == \"familiar\" and ophys_container_id == @id_contain')\n",
        "exper_novel = ophys_experiment_table.query('cre_line == \"Slc17a7-IRES2-Cre\" and behavior_condition == \"pasive\" and experimental_condition == \"novel\" and ophys_container_id == @id_contain')"
      ],
      "execution_count": 12,
      "outputs": []
    },
    {
      "cell_type": "code",
      "metadata": {
        "colab": {
          "base_uri": "https://localhost:8080/",
          "height": 182
        },
        "id": "VlumR7cx-BkK",
        "outputId": "c8dbde60-ba64-4d89-9b65-9534fbaf44af"
      },
      "source": [
        "exper_famil"
      ],
      "execution_count": 13,
      "outputs": [
        {
          "output_type": "execute_result",
          "data": {
            "text/html": [
              "<div>\n",
              "<style scoped>\n",
              "    .dataframe tbody tr th:only-of-type {\n",
              "        vertical-align: middle;\n",
              "    }\n",
              "\n",
              "    .dataframe tbody tr th {\n",
              "        vertical-align: top;\n",
              "    }\n",
              "\n",
              "    .dataframe thead th {\n",
              "        text-align: right;\n",
              "    }\n",
              "</style>\n",
              "<table border=\"1\" class=\"dataframe\">\n",
              "  <thead>\n",
              "    <tr style=\"text-align: right;\">\n",
              "      <th></th>\n",
              "      <th>equipment_name</th>\n",
              "      <th>full_genotype</th>\n",
              "      <th>mouse_id</th>\n",
              "      <th>reporter_line</th>\n",
              "      <th>driver_line</th>\n",
              "      <th>sex</th>\n",
              "      <th>age_in_days</th>\n",
              "      <th>cre_line</th>\n",
              "      <th>indicator</th>\n",
              "      <th>session_number</th>\n",
              "      <th>prior_exposures_to_session_type</th>\n",
              "      <th>prior_exposures_to_image_set</th>\n",
              "      <th>prior_exposures_to_omissions</th>\n",
              "      <th>ophys_session_id</th>\n",
              "      <th>behavior_session_id</th>\n",
              "      <th>ophys_container_id</th>\n",
              "      <th>project_code</th>\n",
              "      <th>imaging_depth</th>\n",
              "      <th>targeted_structure</th>\n",
              "      <th>date_of_acquisition</th>\n",
              "      <th>session_type</th>\n",
              "      <th>file_id</th>\n",
              "      <th>behavior_condition</th>\n",
              "      <th>experimental_condition</th>\n",
              "    </tr>\n",
              "    <tr>\n",
              "      <th>ophys_experiment_id</th>\n",
              "      <th></th>\n",
              "      <th></th>\n",
              "      <th></th>\n",
              "      <th></th>\n",
              "      <th></th>\n",
              "      <th></th>\n",
              "      <th></th>\n",
              "      <th></th>\n",
              "      <th></th>\n",
              "      <th></th>\n",
              "      <th></th>\n",
              "      <th></th>\n",
              "      <th></th>\n",
              "      <th></th>\n",
              "      <th></th>\n",
              "      <th></th>\n",
              "      <th></th>\n",
              "      <th></th>\n",
              "      <th></th>\n",
              "      <th></th>\n",
              "      <th></th>\n",
              "      <th></th>\n",
              "      <th></th>\n",
              "      <th></th>\n",
              "    </tr>\n",
              "  </thead>\n",
              "  <tbody>\n",
              "    <tr>\n",
              "      <th>884218326</th>\n",
              "      <td>CAM2P.3</td>\n",
              "      <td>Slc17a7-IRES2-Cre/wt;Camk2a-tTA/wt;Ai94(TITL-G...</td>\n",
              "      <td>449441</td>\n",
              "      <td>Ai94(TITL-GCaMP6s)</td>\n",
              "      <td>[Slc17a7-IRES2-Cre, Camk2a-tTA]</td>\n",
              "      <td>M</td>\n",
              "      <td>141.0</td>\n",
              "      <td>Slc17a7-IRES2-Cre</td>\n",
              "      <td>GCaMP6s</td>\n",
              "      <td>5.0</td>\n",
              "      <td>1</td>\n",
              "      <td>4.0</td>\n",
              "      <td>9</td>\n",
              "      <td>883349458</td>\n",
              "      <td>883462580</td>\n",
              "      <td>876693090</td>\n",
              "      <td>VisualBehavior</td>\n",
              "      <td>175</td>\n",
              "      <td>VISp</td>\n",
              "      <td>2019-06-10 14:47:36.000000</td>\n",
              "      <td>OPHYS_5_images_B_passive</td>\n",
              "      <td>884326534</td>\n",
              "      <td>pasive</td>\n",
              "      <td>familiar</td>\n",
              "    </tr>\n",
              "  </tbody>\n",
              "</table>\n",
              "</div>"
            ],
            "text/plain": [
              "                    equipment_name  \\\n",
              "ophys_experiment_id                  \n",
              "884218326                  CAM2P.3   \n",
              "\n",
              "                                                         full_genotype  \\\n",
              "ophys_experiment_id                                                      \n",
              "884218326            Slc17a7-IRES2-Cre/wt;Camk2a-tTA/wt;Ai94(TITL-G...   \n",
              "\n",
              "                     mouse_id       reporter_line  \\\n",
              "ophys_experiment_id                                 \n",
              "884218326              449441  Ai94(TITL-GCaMP6s)   \n",
              "\n",
              "                                         driver_line sex  age_in_days  \\\n",
              "ophys_experiment_id                                                     \n",
              "884218326            [Slc17a7-IRES2-Cre, Camk2a-tTA]   M        141.0   \n",
              "\n",
              "                              cre_line indicator  session_number  \\\n",
              "ophys_experiment_id                                                \n",
              "884218326            Slc17a7-IRES2-Cre   GCaMP6s             5.0   \n",
              "\n",
              "                     prior_exposures_to_session_type  \\\n",
              "ophys_experiment_id                                    \n",
              "884218326                                          1   \n",
              "\n",
              "                     prior_exposures_to_image_set  \\\n",
              "ophys_experiment_id                                 \n",
              "884218326                                     4.0   \n",
              "\n",
              "                     prior_exposures_to_omissions  ophys_session_id  \\\n",
              "ophys_experiment_id                                                   \n",
              "884218326                                       9         883349458   \n",
              "\n",
              "                     behavior_session_id  ophys_container_id    project_code  \\\n",
              "ophys_experiment_id                                                            \n",
              "884218326                      883462580           876693090  VisualBehavior   \n",
              "\n",
              "                     imaging_depth targeted_structure  \\\n",
              "ophys_experiment_id                                     \n",
              "884218326                      175               VISp   \n",
              "\n",
              "                            date_of_acquisition              session_type  \\\n",
              "ophys_experiment_id                                                         \n",
              "884218326            2019-06-10 14:47:36.000000  OPHYS_5_images_B_passive   \n",
              "\n",
              "                       file_id behavior_condition experimental_condition  \n",
              "ophys_experiment_id                                                       \n",
              "884218326            884326534             pasive               familiar  "
            ]
          },
          "metadata": {
            "tags": []
          },
          "execution_count": 13
        }
      ]
    },
    {
      "cell_type": "code",
      "metadata": {
        "colab": {
          "base_uri": "https://localhost:8080/",
          "height": 182
        },
        "id": "d_Jk10pc-UAL",
        "outputId": "b68a9a5c-0de0-4104-967f-50618762b4d8"
      },
      "source": [
        "exper_novel"
      ],
      "execution_count": 14,
      "outputs": [
        {
          "output_type": "execute_result",
          "data": {
            "text/html": [
              "<div>\n",
              "<style scoped>\n",
              "    .dataframe tbody tr th:only-of-type {\n",
              "        vertical-align: middle;\n",
              "    }\n",
              "\n",
              "    .dataframe tbody tr th {\n",
              "        vertical-align: top;\n",
              "    }\n",
              "\n",
              "    .dataframe thead th {\n",
              "        text-align: right;\n",
              "    }\n",
              "</style>\n",
              "<table border=\"1\" class=\"dataframe\">\n",
              "  <thead>\n",
              "    <tr style=\"text-align: right;\">\n",
              "      <th></th>\n",
              "      <th>equipment_name</th>\n",
              "      <th>full_genotype</th>\n",
              "      <th>mouse_id</th>\n",
              "      <th>reporter_line</th>\n",
              "      <th>driver_line</th>\n",
              "      <th>sex</th>\n",
              "      <th>age_in_days</th>\n",
              "      <th>cre_line</th>\n",
              "      <th>indicator</th>\n",
              "      <th>session_number</th>\n",
              "      <th>prior_exposures_to_session_type</th>\n",
              "      <th>prior_exposures_to_image_set</th>\n",
              "      <th>prior_exposures_to_omissions</th>\n",
              "      <th>ophys_session_id</th>\n",
              "      <th>behavior_session_id</th>\n",
              "      <th>ophys_container_id</th>\n",
              "      <th>project_code</th>\n",
              "      <th>imaging_depth</th>\n",
              "      <th>targeted_structure</th>\n",
              "      <th>date_of_acquisition</th>\n",
              "      <th>session_type</th>\n",
              "      <th>file_id</th>\n",
              "      <th>behavior_condition</th>\n",
              "      <th>experimental_condition</th>\n",
              "    </tr>\n",
              "    <tr>\n",
              "      <th>ophys_experiment_id</th>\n",
              "      <th></th>\n",
              "      <th></th>\n",
              "      <th></th>\n",
              "      <th></th>\n",
              "      <th></th>\n",
              "      <th></th>\n",
              "      <th></th>\n",
              "      <th></th>\n",
              "      <th></th>\n",
              "      <th></th>\n",
              "      <th></th>\n",
              "      <th></th>\n",
              "      <th></th>\n",
              "      <th></th>\n",
              "      <th></th>\n",
              "      <th></th>\n",
              "      <th></th>\n",
              "      <th></th>\n",
              "      <th></th>\n",
              "      <th></th>\n",
              "      <th></th>\n",
              "      <th></th>\n",
              "      <th></th>\n",
              "      <th></th>\n",
              "    </tr>\n",
              "  </thead>\n",
              "  <tbody>\n",
              "    <tr>\n",
              "      <th>877696762</th>\n",
              "      <td>CAM2P.3</td>\n",
              "      <td>Slc17a7-IRES2-Cre/wt;Camk2a-tTA/wt;Ai94(TITL-G...</td>\n",
              "      <td>449441</td>\n",
              "      <td>Ai94(TITL-GCaMP6s)</td>\n",
              "      <td>[Slc17a7-IRES2-Cre, Camk2a-tTA]</td>\n",
              "      <td>M</td>\n",
              "      <td>129.0</td>\n",
              "      <td>Slc17a7-IRES2-Cre</td>\n",
              "      <td>GCaMP6s</td>\n",
              "      <td>2.0</td>\n",
              "      <td>0</td>\n",
              "      <td>29.0</td>\n",
              "      <td>2</td>\n",
              "      <td>877103886</td>\n",
              "      <td>877287655</td>\n",
              "      <td>876693090</td>\n",
              "      <td>VisualBehavior</td>\n",
              "      <td>175</td>\n",
              "      <td>VISp</td>\n",
              "      <td>2019-05-29 14:58:33.000000</td>\n",
              "      <td>OPHYS_2_images_A_passive</td>\n",
              "      <td>877755454</td>\n",
              "      <td>pasive</td>\n",
              "      <td>novel</td>\n",
              "    </tr>\n",
              "  </tbody>\n",
              "</table>\n",
              "</div>"
            ],
            "text/plain": [
              "                    equipment_name  \\\n",
              "ophys_experiment_id                  \n",
              "877696762                  CAM2P.3   \n",
              "\n",
              "                                                         full_genotype  \\\n",
              "ophys_experiment_id                                                      \n",
              "877696762            Slc17a7-IRES2-Cre/wt;Camk2a-tTA/wt;Ai94(TITL-G...   \n",
              "\n",
              "                     mouse_id       reporter_line  \\\n",
              "ophys_experiment_id                                 \n",
              "877696762              449441  Ai94(TITL-GCaMP6s)   \n",
              "\n",
              "                                         driver_line sex  age_in_days  \\\n",
              "ophys_experiment_id                                                     \n",
              "877696762            [Slc17a7-IRES2-Cre, Camk2a-tTA]   M        129.0   \n",
              "\n",
              "                              cre_line indicator  session_number  \\\n",
              "ophys_experiment_id                                                \n",
              "877696762            Slc17a7-IRES2-Cre   GCaMP6s             2.0   \n",
              "\n",
              "                     prior_exposures_to_session_type  \\\n",
              "ophys_experiment_id                                    \n",
              "877696762                                          0   \n",
              "\n",
              "                     prior_exposures_to_image_set  \\\n",
              "ophys_experiment_id                                 \n",
              "877696762                                    29.0   \n",
              "\n",
              "                     prior_exposures_to_omissions  ophys_session_id  \\\n",
              "ophys_experiment_id                                                   \n",
              "877696762                                       2         877103886   \n",
              "\n",
              "                     behavior_session_id  ophys_container_id    project_code  \\\n",
              "ophys_experiment_id                                                            \n",
              "877696762                      877287655           876693090  VisualBehavior   \n",
              "\n",
              "                     imaging_depth targeted_structure  \\\n",
              "ophys_experiment_id                                     \n",
              "877696762                      175               VISp   \n",
              "\n",
              "                            date_of_acquisition              session_type  \\\n",
              "ophys_experiment_id                                                         \n",
              "877696762            2019-05-29 14:58:33.000000  OPHYS_2_images_A_passive   \n",
              "\n",
              "                       file_id behavior_condition experimental_condition  \n",
              "ophys_experiment_id                                                       \n",
              "877696762            877755454             pasive                  novel  "
            ]
          },
          "metadata": {
            "tags": []
          },
          "execution_count": 14
        }
      ]
    },
    {
      "cell_type": "markdown",
      "metadata": {
        "id": "383nz5ZZzPa_"
      },
      "source": [
        "## **Load one example session**"
      ]
    },
    {
      "cell_type": "code",
      "metadata": {
        "id": "-usCup1VzSuy"
      },
      "source": [
        "# Ophys experimental ID (choose the first experiment of familiar and novel conditions)\n",
        "ophys_experiment_id_fam = exper_famil.index[0] #we actually only have one experiment\n",
        "ophys_experiment_id_nov = exper_novel.index[0]\n",
        "\n",
        "# Download particular ophys experiments\n",
        "fam_experiment = cache.get_behavior_ophys_experiment(ophys_experiment_id_fam)\n",
        "nov_experiment = cache.get_behavior_ophys_experiment(ophys_experiment_id_nov)"
      ],
      "execution_count": 15,
      "outputs": []
    },
    {
      "cell_type": "markdown",
      "metadata": {
        "id": "elqAaasP_N_4"
      },
      "source": [
        "Structure the data"
      ]
    },
    {
      "cell_type": "code",
      "metadata": {
        "id": "I0fqYu64_PES"
      },
      "source": [
        "metadata_keys = [\n",
        "    'ophys_experiment_id',\n",
        "    'ophys_session_id',\n",
        "    'targeted_structure',\n",
        "    'imaging_depth',\n",
        "    'equipment_name',\n",
        "    'cre_line',\n",
        "    'mouse_id',\n",
        "    'sex',\n",
        "]"
      ],
      "execution_count": 16,
      "outputs": []
    },
    {
      "cell_type": "code",
      "metadata": {
        "id": "xoZpU_ZLCEye"
      },
      "source": [
        "nov_experiment_neural_data = ophys.build_tidy_cell_df(nov_experiment)"
      ],
      "execution_count": 17,
      "outputs": []
    },
    {
      "cell_type": "code",
      "metadata": {
        "id": "wbeTMGDNCu4H"
      },
      "source": [
        "#crush everytime\n",
        "#fam_experiment_neural_data = ophys.build_tidy_cell_df(fam_experiment)"
      ],
      "execution_count": null,
      "outputs": []
    },
    {
      "cell_type": "code",
      "metadata": {
        "id": "qCOoWn5v_ToZ"
      },
      "source": [
        "#don't run this cell, it will crush\n",
        "#fam_experiment_neural_data = ophys.build_tidy_cell_df(fam_experiment)\n",
        "#nov_experiment_neural_data = ophys.build_tidy_cell_df(nov_experiment)"
      ],
      "execution_count": null,
      "outputs": []
    },
    {
      "cell_type": "markdown",
      "metadata": {
        "id": "pWDR8Ucv_ZJd"
      },
      "source": [
        "## **Examine Cell IDs**"
      ]
    },
    {
      "cell_type": "code",
      "metadata": {
        "colab": {
          "base_uri": "https://localhost:8080/"
        },
        "id": "l3gknFfE_c3s",
        "outputId": "97940a58-5ab8-4e1d-c4cb-e68ddf3759b5"
      },
      "source": [
        "#cyllllll\n",
        "#cell_ids_fam = fam_experiment_neural_data['cell_specimen_id'].unique()\n",
        "#print('there are {} unique cells for fam'.format(len(cell_ids)))\n",
        "#print('cell ids are: {}'.format(cell_ids))\n",
        "\n",
        "cell_ids_nov = nov_experiment_neural_data['cell_specimen_id'].unique()\n",
        "print('there are {} unique cells for nov'.format(len(cell_ids_nov)))\n",
        "print('cell ids are: {}'.format(cell_ids_nov))\n",
        "\n",
        "# Choose only one neuron ID\n",
        "#cell_id_fam = cell_ids_fam[0]\n",
        "cell_id_nov = cell_ids_nov[0]"
      ],
      "execution_count": 19,
      "outputs": [
        {
          "output_type": "stream",
          "text": [
            "there are 478 unique cells for nov\n",
            "cell ids are: [1086633411, 1086538247, 1086538383, 1086539653, 1086541023, ..., 1086624769, 1086545673, 1086624879, 1086624971, 1086635940]\n",
            "Length: 478\n",
            "Categories (478, int64): [1086633411, 1086538247, 1086538383, 1086539653, ..., 1086545673, 1086624879,\n",
            "                          1086624971, 1086635940]\n"
          ],
          "name": "stdout"
        }
      ]
    },
    {
      "cell_type": "code",
      "metadata": {
        "id": "Ns92PTAm_4ba"
      },
      "source": [
        "#fam_single_cell_timeseries = fam_experiment_neural_data.query('cell_specimen_id == @cell_id')\n",
        "nov_single_cell_timeseries = nov_experiment_neural_data.query('cell_specimen_id == @cell_id_nov')"
      ],
      "execution_count": 21,
      "outputs": []
    },
    {
      "cell_type": "code",
      "metadata": {
        "id": "wEEp9hNS_8DY"
      },
      "source": [
        "#cyllll\n",
        "#fam_stimulus_table = fam_experiment.stimulus_presentations\n",
        "nov_stimulus_table = nov_experiment.stimulus_presentations"
      ],
      "execution_count": 26,
      "outputs": []
    },
    {
      "cell_type": "code",
      "metadata": {
        "id": "jkCo2JbtF52C"
      },
      "source": [
        "#for cell_id in cell_id_fam:\n",
        "etr_nov = mindscope_utilities.event_triggered_response(\n",
        "data = nov_experiment_neural_data.query('cell_specimen_id == @cell_id_nov'),\n",
        "t = 'timestamps',\n",
        "y = 'dff',\n",
        "event_times = nov_stimulus_table.query('is_change == False')['start_time'], #no change images\n",
        "t_before=0,\n",
        "t_after=0.5,\n",
        "output_sampling_rate = 1,\n",
        ")\n",
        "nov_single_cell_timeseries = nov_experiment_neural_data.query('cell_specimen_id == @cell_id_nov')"
      ],
      "execution_count": 42,
      "outputs": []
    },
    {
      "cell_type": "code",
      "metadata": {
        "colab": {
          "base_uri": "https://localhost:8080/"
        },
        "id": "S2Jnyez3GKw1",
        "outputId": "5cb3d3e3-baa8-4a97-df49-7e7770115181"
      },
      "source": [
        "print(np.size(nov_single_cell_timeseries,0))\n",
        "print(np.size(nov_single_cell_timeseries,1))\n",
        "event_times = nov_stimulus_table.query('is_change == False')['start_time']\n",
        "print(np.size(event_times))"
      ],
      "execution_count": 43,
      "outputs": [
        {
          "output_type": "stream",
          "text": [
            "139908\n",
            "6\n",
            "4443\n"
          ],
          "name": "stdout"
        }
      ]
    },
    {
      "cell_type": "code",
      "metadata": {
        "colab": {
          "base_uri": "https://localhost:8080/"
        },
        "id": "BG4hAzqRGwhU",
        "outputId": "dc87e226-3d45-4d48-adc8-4501410dd61e"
      },
      "source": [
        "print(np.size(etr_nov, 0))\n",
        "print(np.size(etr_nov, 1))"
      ],
      "execution_count": 44,
      "outputs": [
        {
          "output_type": "stream",
          "text": [
            "4443\n",
            "4\n"
          ],
          "name": "stdout"
        }
      ]
    },
    {
      "cell_type": "code",
      "metadata": {
        "colab": {
          "base_uri": "https://localhost:8080/"
        },
        "id": "s20cymIDIlv_",
        "outputId": "d5e2890c-0a15-4c24-be62-60273dfff44c"
      },
      "source": [
        "etr_nov.dff"
      ],
      "execution_count": 47,
      "outputs": [
        {
          "output_type": "execute_result",
          "data": {
            "text/plain": [
              "0      -0.110893\n",
              "1       0.088510\n",
              "2       0.119765\n",
              "3      -0.053343\n",
              "4      -0.003817\n",
              "          ...   \n",
              "4438   -0.012414\n",
              "4439    0.039051\n",
              "4440    0.027484\n",
              "4441    0.005956\n",
              "4442    0.043036\n",
              "Name: dff, Length: 4443, dtype: float64"
            ]
          },
          "metadata": {
            "tags": []
          },
          "execution_count": 47
        }
      ]
    },
    {
      "cell_type": "code",
      "metadata": {
        "colab": {
          "base_uri": "https://localhost:8080/",
          "height": 367
        },
        "id": "Zaipi8BTJKkU",
        "outputId": "8acbb04c-df8f-4d46-961c-b5487aac1c57"
      },
      "source": [
        "plt.hist(etr_nov.dff)"
      ],
      "execution_count": 48,
      "outputs": [
        {
          "output_type": "execute_result",
          "data": {
            "text/plain": [
              "(array([3.000e+01, 1.011e+03, 2.494e+03, 8.250e+02, 7.000e+01, 7.000e+00,\n",
              "        3.000e+00, 2.000e+00, 0.000e+00, 1.000e+00]),\n",
              " array([-0.25424292, -0.15211226, -0.04998159,  0.05214908,  0.15427975,\n",
              "         0.25641042,  0.35854109,  0.46067175,  0.56280242,  0.66493309,\n",
              "         0.76706376]),\n",
              " <a list of 10 Patch objects>)"
            ]
          },
          "metadata": {
            "tags": []
          },
          "execution_count": 48
        },
        {
          "output_type": "display_data",
          "data": {
            "image/png": "[encoded data removed]",
            "text/plain": [
              "<Figure size 432x288 with 1 Axes>"
            ]
          },
          "metadata": {
            "tags": [],
            "needs_background": "light"
          }
        }
      ]
    }
  ]
}